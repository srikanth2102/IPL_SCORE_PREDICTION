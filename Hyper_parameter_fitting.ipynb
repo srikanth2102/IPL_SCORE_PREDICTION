{
  "nbformat": 4,
  "nbformat_minor": 0,
  "metadata": {
    "colab": {
      "name": "IPL_PARAMETER_FITTING",
      "provenance": [],
      "collapsed_sections": [],
      "authorship_tag": "ABX9TyPD82JvDiADCJYT6bhhCWHp",
      "include_colab_link": true
    },
    "kernelspec": {
      "display_name": "Python 3",
      "name": "python3"
    },
    "language_info": {
      "name": "python"
    }
  },
  "cells": [
    {
      "cell_type": "markdown",
      "metadata": {
        "id": "view-in-github",
        "colab_type": "text"
      },
      "source": [
        "<a href=\"https://colab.research.google.com/github/srikanth2102/IPL_SCORE_PREDICTION/blob/main/Hyper_parameter_fitting.ipynb\" target=\"_parent\"><img src=\"https://colab.research.google.com/assets/colab-badge.svg\" alt=\"Open In Colab\"/></a>"
      ]
    },
    {
      "cell_type": "markdown",
      "metadata": {
        "id": "wSz71-nutNGr"
      },
      "source": [
        "IPL SCORE PREDICTION"
      ]
    },
    {
      "cell_type": "code",
      "metadata": {
        "id": "yC5_le2xtKjs"
      },
      "source": [
        "#importing libraries\n",
        "import pandas as pd\n",
        "import numpy as np\n",
        "import seaborn as sns\n",
        "import matplotlib.pyplot as plt\n",
        "from sklearn.model_selection import train_test_split"
      ],
      "execution_count": null,
      "outputs": []
    },
    {
      "cell_type": "code",
      "metadata": {
        "colab": {
          "resources": {
            "http://localhost:8080/nbextensions/google.colab/files.js": {
              "data": "Ly8gQ29weXJpZ2h0IDIwMTcgR29vZ2xlIExMQwovLwovLyBMaWNlbnNlZCB1bmRlciB0aGUgQXBhY2hlIExpY2Vuc2UsIFZlcnNpb24gMi4wICh0aGUgIkxpY2Vuc2UiKTsKLy8geW91IG1heSBub3QgdXNlIHRoaXMgZmlsZSBleGNlcHQgaW4gY29tcGxpYW5jZSB3aXRoIHRoZSBMaWNlbnNlLgovLyBZb3UgbWF5IG9idGFpbiBhIGNvcHkgb2YgdGhlIExpY2Vuc2UgYXQKLy8KLy8gICAgICBodHRwOi8vd3d3LmFwYWNoZS5vcmcvbGljZW5zZXMvTElDRU5TRS0yLjAKLy8KLy8gVW5sZXNzIHJlcXVpcmVkIGJ5IGFwcGxpY2FibGUgbGF3IG9yIGFncmVlZCB0byBpbiB3cml0aW5nLCBzb2Z0d2FyZQovLyBkaXN0cmlidXRlZCB1bmRlciB0aGUgTGljZW5zZSBpcyBkaXN0cmlidXRlZCBvbiBhbiAiQVMgSVMiIEJBU0lTLAovLyBXSVRIT1VUIFdBUlJBTlRJRVMgT1IgQ09ORElUSU9OUyBPRiBBTlkgS0lORCwgZWl0aGVyIGV4cHJlc3Mgb3IgaW1wbGllZC4KLy8gU2VlIHRoZSBMaWNlbnNlIGZvciB0aGUgc3BlY2lmaWMgbGFuZ3VhZ2UgZ292ZXJuaW5nIHBlcm1pc3Npb25zIGFuZAovLyBsaW1pdGF0aW9ucyB1bmRlciB0aGUgTGljZW5zZS4KCi8qKgogKiBAZmlsZW92ZXJ2aWV3IEhlbHBlcnMgZm9yIGdvb2dsZS5jb2xhYiBQeXRob24gbW9kdWxlLgogKi8KKGZ1bmN0aW9uKHNjb3BlKSB7CmZ1bmN0aW9uIHNwYW4odGV4dCwgc3R5bGVBdHRyaWJ1dGVzID0ge30pIHsKICBjb25zdCBlbGVtZW50ID0gZG9jdW1lbnQuY3JlYXRlRWxlbWVudCgnc3BhbicpOwogIGVsZW1lbnQudGV4dENvbnRlbnQgPSB0ZXh0OwogIGZvciAoY29uc3Qga2V5IG9mIE9iamVjdC5rZXlzKHN0eWxlQXR0cmlidXRlcykpIHsKICAgIGVsZW1lbnQuc3R5bGVba2V5XSA9IHN0eWxlQXR0cmlidXRlc1trZXldOwogIH0KICByZXR1cm4gZWxlbWVudDsKfQoKLy8gTWF4IG51bWJlciBvZiBieXRlcyB3aGljaCB3aWxsIGJlIHVwbG9hZGVkIGF0IGEgdGltZS4KY29uc3QgTUFYX1BBWUxPQURfU0laRSA9IDEwMCAqIDEwMjQ7CgpmdW5jdGlvbiBfdXBsb2FkRmlsZXMoaW5wdXRJZCwgb3V0cHV0SWQpIHsKICBjb25zdCBzdGVwcyA9IHVwbG9hZEZpbGVzU3RlcChpbnB1dElkLCBvdXRwdXRJZCk7CiAgY29uc3Qgb3V0cHV0RWxlbWVudCA9IGRvY3VtZW50LmdldEVsZW1lbnRCeUlkKG91dHB1dElkKTsKICAvLyBDYWNoZSBzdGVwcyBvbiB0aGUgb3V0cHV0RWxlbWVudCB0byBtYWtlIGl0IGF2YWlsYWJsZSBmb3IgdGhlIG5leHQgY2FsbAogIC8vIHRvIHVwbG9hZEZpbGVzQ29udGludWUgZnJvbSBQeXRob24uCiAgb3V0cHV0RWxlbWVudC5zdGVwcyA9IHN0ZXBzOwoKICByZXR1cm4gX3VwbG9hZEZpbGVzQ29udGludWUob3V0cHV0SWQpOwp9CgovLyBUaGlzIGlzIHJvdWdobHkgYW4gYXN5bmMgZ2VuZXJhdG9yIChub3Qgc3VwcG9ydGVkIGluIHRoZSBicm93c2VyIHlldCksCi8vIHdoZXJlIHRoZXJlIGFyZSBtdWx0aXBsZSBhc3luY2hyb25vdXMgc3RlcHMgYW5kIHRoZSBQeXRob24gc2lkZSBpcyBnb2luZwovLyB0byBwb2xsIGZvciBjb21wbGV0aW9uIG9mIGVhY2ggc3RlcC4KLy8gVGhpcyB1c2VzIGEgUHJvbWlzZSB0byBibG9jayB0aGUgcHl0aG9uIHNpZGUgb24gY29tcGxldGlvbiBvZiBlYWNoIHN0ZXAsCi8vIHRoZW4gcGFzc2VzIHRoZSByZXN1bHQgb2YgdGhlIHByZXZpb3VzIHN0ZXAgYXMgdGhlIGlucHV0IHRvIHRoZSBuZXh0IHN0ZXAuCmZ1bmN0aW9uIF91cGxvYWRGaWxlc0NvbnRpbnVlKG91dHB1dElkKSB7CiAgY29uc3Qgb3V0cHV0RWxlbWVudCA9IGRvY3VtZW50LmdldEVsZW1lbnRCeUlkKG91dHB1dElkKTsKICBjb25zdCBzdGVwcyA9IG91dHB1dEVsZW1lbnQuc3RlcHM7CgogIGNvbnN0IG5leHQgPSBzdGVwcy5uZXh0KG91dHB1dEVsZW1lbnQubGFzdFByb21pc2VWYWx1ZSk7CiAgcmV0dXJuIFByb21pc2UucmVzb2x2ZShuZXh0LnZhbHVlLnByb21pc2UpLnRoZW4oKHZhbHVlKSA9PiB7CiAgICAvLyBDYWNoZSB0aGUgbGFzdCBwcm9taXNlIHZhbHVlIHRvIG1ha2UgaXQgYXZhaWxhYmxlIHRvIHRoZSBuZXh0CiAgICAvLyBzdGVwIG9mIHRoZSBnZW5lcmF0b3IuCiAgICBvdXRwdXRFbGVtZW50Lmxhc3RQcm9taXNlVmFsdWUgPSB2YWx1ZTsKICAgIHJldHVybiBuZXh0LnZhbHVlLnJlc3BvbnNlOwogIH0pOwp9CgovKioKICogR2VuZXJhdG9yIGZ1bmN0aW9uIHdoaWNoIGlzIGNhbGxlZCBiZXR3ZWVuIGVhY2ggYXN5bmMgc3RlcCBvZiB0aGUgdXBsb2FkCiAqIHByb2Nlc3MuCiAqIEBwYXJhbSB7c3RyaW5nfSBpbnB1dElkIEVsZW1lbnQgSUQgb2YgdGhlIGlucHV0IGZpbGUgcGlja2VyIGVsZW1lbnQuCiAqIEBwYXJhbSB7c3RyaW5nfSBvdXRwdXRJZCBFbGVtZW50IElEIG9mIHRoZSBvdXRwdXQgZGlzcGxheS4KICogQHJldHVybiB7IUl0ZXJhYmxlPCFPYmplY3Q+fSBJdGVyYWJsZSBvZiBuZXh0IHN0ZXBzLgogKi8KZnVuY3Rpb24qIHVwbG9hZEZpbGVzU3RlcChpbnB1dElkLCBvdXRwdXRJZCkgewogIGNvbnN0IGlucHV0RWxlbWVudCA9IGRvY3VtZW50LmdldEVsZW1lbnRCeUlkKGlucHV0SWQpOwogIGlucHV0RWxlbWVudC5kaXNhYmxlZCA9IGZhbHNlOwoKICBjb25zdCBvdXRwdXRFbGVtZW50ID0gZG9jdW1lbnQuZ2V0RWxlbWVudEJ5SWQob3V0cHV0SWQpOwogIG91dHB1dEVsZW1lbnQuaW5uZXJIVE1MID0gJyc7CgogIGNvbnN0IHBpY2tlZFByb21pc2UgPSBuZXcgUHJvbWlzZSgocmVzb2x2ZSkgPT4gewogICAgaW5wdXRFbGVtZW50LmFkZEV2ZW50TGlzdGVuZXIoJ2NoYW5nZScsIChlKSA9PiB7CiAgICAgIHJlc29sdmUoZS50YXJnZXQuZmlsZXMpOwogICAgfSk7CiAgfSk7CgogIGNvbnN0IGNhbmNlbCA9IGRvY3VtZW50LmNyZWF0ZUVsZW1lbnQoJ2J1dHRvbicpOwogIGlucHV0RWxlbWVudC5wYXJlbnRFbGVtZW50LmFwcGVuZENoaWxkKGNhbmNlbCk7CiAgY2FuY2VsLnRleHRDb250ZW50ID0gJ0NhbmNlbCB1cGxvYWQnOwogIGNvbnN0IGNhbmNlbFByb21pc2UgPSBuZXcgUHJvbWlzZSgocmVzb2x2ZSkgPT4gewogICAgY2FuY2VsLm9uY2xpY2sgPSAoKSA9PiB7CiAgICAgIHJlc29sdmUobnVsbCk7CiAgICB9OwogIH0pOwoKICAvLyBXYWl0IGZvciB0aGUgdXNlciB0byBwaWNrIHRoZSBmaWxlcy4KICBjb25zdCBmaWxlcyA9IHlpZWxkIHsKICAgIHByb21pc2U6IFByb21pc2UucmFjZShbcGlja2VkUHJvbWlzZSwgY2FuY2VsUHJvbWlzZV0pLAogICAgcmVzcG9uc2U6IHsKICAgICAgYWN0aW9uOiAnc3RhcnRpbmcnLAogICAgfQogIH07CgogIGNhbmNlbC5yZW1vdmUoKTsKCiAgLy8gRGlzYWJsZSB0aGUgaW5wdXQgZWxlbWVudCBzaW5jZSBmdXJ0aGVyIHBpY2tzIGFyZSBub3QgYWxsb3dlZC4KICBpbnB1dEVsZW1lbnQuZGlzYWJsZWQgPSB0cnVlOwoKICBpZiAoIWZpbGVzKSB7CiAgICByZXR1cm4gewogICAgICByZXNwb25zZTogewogICAgICAgIGFjdGlvbjogJ2NvbXBsZXRlJywKICAgICAgfQogICAgfTsKICB9CgogIGZvciAoY29uc3QgZmlsZSBvZiBmaWxlcykgewogICAgY29uc3QgbGkgPSBkb2N1bWVudC5jcmVhdGVFbGVtZW50KCdsaScpOwogICAgbGkuYXBwZW5kKHNwYW4oZmlsZS5uYW1lLCB7Zm9udFdlaWdodDogJ2JvbGQnfSkpOwogICAgbGkuYXBwZW5kKHNwYW4oCiAgICAgICAgYCgke2ZpbGUudHlwZSB8fCAnbi9hJ30pIC0gJHtmaWxlLnNpemV9IGJ5dGVzLCBgICsKICAgICAgICBgbGFzdCBtb2RpZmllZDogJHsKICAgICAgICAgICAgZmlsZS5sYXN0TW9kaWZpZWREYXRlID8gZmlsZS5sYXN0TW9kaWZpZWREYXRlLnRvTG9jYWxlRGF0ZVN0cmluZygpIDoKICAgICAgICAgICAgICAgICAgICAgICAgICAgICAgICAgICAgJ24vYSd9IC0gYCkpOwogICAgY29uc3QgcGVyY2VudCA9IHNwYW4oJzAlIGRvbmUnKTsKICAgIGxpLmFwcGVuZENoaWxkKHBlcmNlbnQpOwoKICAgIG91dHB1dEVsZW1lbnQuYXBwZW5kQ2hpbGQobGkpOwoKICAgIGNvbnN0IGZpbGVEYXRhUHJvbWlzZSA9IG5ldyBQcm9taXNlKChyZXNvbHZlKSA9PiB7CiAgICAgIGNvbnN0IHJlYWRlciA9IG5ldyBGaWxlUmVhZGVyKCk7CiAgICAgIHJlYWRlci5vbmxvYWQgPSAoZSkgPT4gewogICAgICAgIHJlc29sdmUoZS50YXJnZXQucmVzdWx0KTsKICAgICAgfTsKICAgICAgcmVhZGVyLnJlYWRBc0FycmF5QnVmZmVyKGZpbGUpOwogICAgfSk7CiAgICAvLyBXYWl0IGZvciB0aGUgZGF0YSB0byBiZSByZWFkeS4KICAgIGxldCBmaWxlRGF0YSA9IHlpZWxkIHsKICAgICAgcHJvbWlzZTogZmlsZURhdGFQcm9taXNlLAogICAgICByZXNwb25zZTogewogICAgICAgIGFjdGlvbjogJ2NvbnRpbnVlJywKICAgICAgfQogICAgfTsKCiAgICAvLyBVc2UgYSBjaHVua2VkIHNlbmRpbmcgdG8gYXZvaWQgbWVzc2FnZSBzaXplIGxpbWl0cy4gU2VlIGIvNjIxMTU2NjAuCiAgICBsZXQgcG9zaXRpb24gPSAwOwogICAgZG8gewogICAgICBjb25zdCBsZW5ndGggPSBNYXRoLm1pbihmaWxlRGF0YS5ieXRlTGVuZ3RoIC0gcG9zaXRpb24sIE1BWF9QQVlMT0FEX1NJWkUpOwogICAgICBjb25zdCBjaHVuayA9IG5ldyBVaW50OEFycmF5KGZpbGVEYXRhLCBwb3NpdGlvbiwgbGVuZ3RoKTsKICAgICAgcG9zaXRpb24gKz0gbGVuZ3RoOwoKICAgICAgY29uc3QgYmFzZTY0ID0gYnRvYShTdHJpbmcuZnJvbUNoYXJDb2RlLmFwcGx5KG51bGwsIGNodW5rKSk7CiAgICAgIHlpZWxkIHsKICAgICAgICByZXNwb25zZTogewogICAgICAgICAgYWN0aW9uOiAnYXBwZW5kJywKICAgICAgICAgIGZpbGU6IGZpbGUubmFtZSwKICAgICAgICAgIGRhdGE6IGJhc2U2NCwKICAgICAgICB9LAogICAgICB9OwoKICAgICAgbGV0IHBlcmNlbnREb25lID0gZmlsZURhdGEuYnl0ZUxlbmd0aCA9PT0gMCA/CiAgICAgICAgICAxMDAgOgogICAgICAgICAgTWF0aC5yb3VuZCgocG9zaXRpb24gLyBmaWxlRGF0YS5ieXRlTGVuZ3RoKSAqIDEwMCk7CiAgICAgIHBlcmNlbnQudGV4dENvbnRlbnQgPSBgJHtwZXJjZW50RG9uZX0lIGRvbmVgOwoKICAgIH0gd2hpbGUgKHBvc2l0aW9uIDwgZmlsZURhdGEuYnl0ZUxlbmd0aCk7CiAgfQoKICAvLyBBbGwgZG9uZS4KICB5aWVsZCB7CiAgICByZXNwb25zZTogewogICAgICBhY3Rpb246ICdjb21wbGV0ZScsCiAgICB9CiAgfTsKfQoKc2NvcGUuZ29vZ2xlID0gc2NvcGUuZ29vZ2xlIHx8IHt9OwpzY29wZS5nb29nbGUuY29sYWIgPSBzY29wZS5nb29nbGUuY29sYWIgfHwge307CnNjb3BlLmdvb2dsZS5jb2xhYi5fZmlsZXMgPSB7CiAgX3VwbG9hZEZpbGVzLAogIF91cGxvYWRGaWxlc0NvbnRpbnVlLAp9Owp9KShzZWxmKTsK",
              "ok": true,
              "headers": [
                [
                  "content-type",
                  "application/javascript"
                ]
              ],
              "status": 200,
              "status_text": ""
            }
          },
          "base_uri": "https://localhost:8080/",
          "height": 37
        },
        "id": "KqpA1X9pti_D",
        "outputId": "ede6e023-2215-49af-b3bd-250eb3feafea"
      },
      "source": [
        "#uploading the file in the device to google colab\n",
        "from google.colab import files\n",
        "uploaded = files.upload()"
      ],
      "execution_count": null,
      "outputs": [
        {
          "output_type": "display_data",
          "data": {
            "text/html": [
              "\n",
              "     <input type=\"file\" id=\"files-2242e9cb-7cf3-457d-a5e0-57827317b800\" name=\"files[]\" multiple disabled\n",
              "        style=\"border:none\" />\n",
              "     <output id=\"result-2242e9cb-7cf3-457d-a5e0-57827317b800\">\n",
              "      Upload widget is only available when the cell has been executed in the\n",
              "      current browser session. Please rerun this cell to enable.\n",
              "      </output>\n",
              "      <script src=\"/nbextensions/google.colab/files.js\"></script> "
            ],
            "text/plain": [
              "<IPython.core.display.HTML object>"
            ]
          },
          "metadata": {
            "tags": []
          }
        }
      ]
    },
    {
      "cell_type": "code",
      "metadata": {
        "colab": {
          "base_uri": "https://localhost:8080/",
          "height": 434
        },
        "id": "pKUd3uIKtn4z",
        "outputId": "1a86d34d-39ed-4e82-dab0-2a303c00cf75"
      },
      "source": [
        "#Reading File using Pandas\n",
        "ipl =pd.read_csv(\"data.csv\")\n",
        "print(ipl.shape)\n",
        "ipl.head()"
      ],
      "execution_count": null,
      "outputs": [
        {
          "output_type": "stream",
          "text": [
            "(76014, 15)\n"
          ],
          "name": "stdout"
        },
        {
          "output_type": "execute_result",
          "data": {
            "text/html": [
              "<div>\n",
              "<style scoped>\n",
              "    .dataframe tbody tr th:only-of-type {\n",
              "        vertical-align: middle;\n",
              "    }\n",
              "\n",
              "    .dataframe tbody tr th {\n",
              "        vertical-align: top;\n",
              "    }\n",
              "\n",
              "    .dataframe thead th {\n",
              "        text-align: right;\n",
              "    }\n",
              "</style>\n",
              "<table border=\"1\" class=\"dataframe\">\n",
              "  <thead>\n",
              "    <tr style=\"text-align: right;\">\n",
              "      <th></th>\n",
              "      <th>mid</th>\n",
              "      <th>date</th>\n",
              "      <th>venue</th>\n",
              "      <th>batting_team</th>\n",
              "      <th>bowling_team</th>\n",
              "      <th>batsman</th>\n",
              "      <th>bowler</th>\n",
              "      <th>runs</th>\n",
              "      <th>wickets</th>\n",
              "      <th>overs</th>\n",
              "      <th>runs_last_5</th>\n",
              "      <th>wickets_last_5</th>\n",
              "      <th>striker</th>\n",
              "      <th>non-striker</th>\n",
              "      <th>total</th>\n",
              "    </tr>\n",
              "  </thead>\n",
              "  <tbody>\n",
              "    <tr>\n",
              "      <th>0</th>\n",
              "      <td>1</td>\n",
              "      <td>18-04-2008</td>\n",
              "      <td>M Chinnaswamy Stadium</td>\n",
              "      <td>Kolkata Knight Riders</td>\n",
              "      <td>Royal Challengers Bangalore</td>\n",
              "      <td>SC Ganguly</td>\n",
              "      <td>P Kumar</td>\n",
              "      <td>1</td>\n",
              "      <td>0</td>\n",
              "      <td>0.1</td>\n",
              "      <td>1</td>\n",
              "      <td>0</td>\n",
              "      <td>0</td>\n",
              "      <td>0</td>\n",
              "      <td>222</td>\n",
              "    </tr>\n",
              "    <tr>\n",
              "      <th>1</th>\n",
              "      <td>1</td>\n",
              "      <td>18-04-2008</td>\n",
              "      <td>M Chinnaswamy Stadium</td>\n",
              "      <td>Kolkata Knight Riders</td>\n",
              "      <td>Royal Challengers Bangalore</td>\n",
              "      <td>BB McCullum</td>\n",
              "      <td>P Kumar</td>\n",
              "      <td>1</td>\n",
              "      <td>0</td>\n",
              "      <td>0.2</td>\n",
              "      <td>1</td>\n",
              "      <td>0</td>\n",
              "      <td>0</td>\n",
              "      <td>0</td>\n",
              "      <td>222</td>\n",
              "    </tr>\n",
              "    <tr>\n",
              "      <th>2</th>\n",
              "      <td>1</td>\n",
              "      <td>18-04-2008</td>\n",
              "      <td>M Chinnaswamy Stadium</td>\n",
              "      <td>Kolkata Knight Riders</td>\n",
              "      <td>Royal Challengers Bangalore</td>\n",
              "      <td>BB McCullum</td>\n",
              "      <td>P Kumar</td>\n",
              "      <td>2</td>\n",
              "      <td>0</td>\n",
              "      <td>0.2</td>\n",
              "      <td>2</td>\n",
              "      <td>0</td>\n",
              "      <td>0</td>\n",
              "      <td>0</td>\n",
              "      <td>222</td>\n",
              "    </tr>\n",
              "    <tr>\n",
              "      <th>3</th>\n",
              "      <td>1</td>\n",
              "      <td>18-04-2008</td>\n",
              "      <td>M Chinnaswamy Stadium</td>\n",
              "      <td>Kolkata Knight Riders</td>\n",
              "      <td>Royal Challengers Bangalore</td>\n",
              "      <td>BB McCullum</td>\n",
              "      <td>P Kumar</td>\n",
              "      <td>2</td>\n",
              "      <td>0</td>\n",
              "      <td>0.3</td>\n",
              "      <td>2</td>\n",
              "      <td>0</td>\n",
              "      <td>0</td>\n",
              "      <td>0</td>\n",
              "      <td>222</td>\n",
              "    </tr>\n",
              "    <tr>\n",
              "      <th>4</th>\n",
              "      <td>1</td>\n",
              "      <td>18-04-2008</td>\n",
              "      <td>M Chinnaswamy Stadium</td>\n",
              "      <td>Kolkata Knight Riders</td>\n",
              "      <td>Royal Challengers Bangalore</td>\n",
              "      <td>BB McCullum</td>\n",
              "      <td>P Kumar</td>\n",
              "      <td>2</td>\n",
              "      <td>0</td>\n",
              "      <td>0.4</td>\n",
              "      <td>2</td>\n",
              "      <td>0</td>\n",
              "      <td>0</td>\n",
              "      <td>0</td>\n",
              "      <td>222</td>\n",
              "    </tr>\n",
              "  </tbody>\n",
              "</table>\n",
              "</div>"
            ],
            "text/plain": [
              "   mid        date                  venue  ... striker non-striker total\n",
              "0    1  18-04-2008  M Chinnaswamy Stadium  ...       0           0   222\n",
              "1    1  18-04-2008  M Chinnaswamy Stadium  ...       0           0   222\n",
              "2    1  18-04-2008  M Chinnaswamy Stadium  ...       0           0   222\n",
              "3    1  18-04-2008  M Chinnaswamy Stadium  ...       0           0   222\n",
              "4    1  18-04-2008  M Chinnaswamy Stadium  ...       0           0   222\n",
              "\n",
              "[5 rows x 15 columns]"
            ]
          },
          "metadata": {
            "tags": []
          },
          "execution_count": 4
        }
      ]
    },
    {
      "cell_type": "code",
      "metadata": {
        "colab": {
          "base_uri": "https://localhost:8080/",
          "height": 224
        },
        "id": "Wh2ucWWNuEcf",
        "outputId": "2a4cd150-71f1-429f-dad4-ac13e403669d"
      },
      "source": [
        "#cleaning data\n",
        "ipl.drop(['mid','date','batsman','bowler','striker','non-striker'],axis=1,inplace=True)\n",
        "print(ipl.shape)\n",
        "ipl.head()"
      ],
      "execution_count": null,
      "outputs": [
        {
          "output_type": "stream",
          "text": [
            "(76014, 9)\n"
          ],
          "name": "stdout"
        },
        {
          "output_type": "execute_result",
          "data": {
            "text/html": [
              "<div>\n",
              "<style scoped>\n",
              "    .dataframe tbody tr th:only-of-type {\n",
              "        vertical-align: middle;\n",
              "    }\n",
              "\n",
              "    .dataframe tbody tr th {\n",
              "        vertical-align: top;\n",
              "    }\n",
              "\n",
              "    .dataframe thead th {\n",
              "        text-align: right;\n",
              "    }\n",
              "</style>\n",
              "<table border=\"1\" class=\"dataframe\">\n",
              "  <thead>\n",
              "    <tr style=\"text-align: right;\">\n",
              "      <th></th>\n",
              "      <th>venue</th>\n",
              "      <th>batting_team</th>\n",
              "      <th>bowling_team</th>\n",
              "      <th>runs</th>\n",
              "      <th>wickets</th>\n",
              "      <th>overs</th>\n",
              "      <th>runs_last_5</th>\n",
              "      <th>wickets_last_5</th>\n",
              "      <th>total</th>\n",
              "    </tr>\n",
              "  </thead>\n",
              "  <tbody>\n",
              "    <tr>\n",
              "      <th>0</th>\n",
              "      <td>M Chinnaswamy Stadium</td>\n",
              "      <td>Kolkata Knight Riders</td>\n",
              "      <td>Royal Challengers Bangalore</td>\n",
              "      <td>1</td>\n",
              "      <td>0</td>\n",
              "      <td>0.1</td>\n",
              "      <td>1</td>\n",
              "      <td>0</td>\n",
              "      <td>222</td>\n",
              "    </tr>\n",
              "    <tr>\n",
              "      <th>1</th>\n",
              "      <td>M Chinnaswamy Stadium</td>\n",
              "      <td>Kolkata Knight Riders</td>\n",
              "      <td>Royal Challengers Bangalore</td>\n",
              "      <td>1</td>\n",
              "      <td>0</td>\n",
              "      <td>0.2</td>\n",
              "      <td>1</td>\n",
              "      <td>0</td>\n",
              "      <td>222</td>\n",
              "    </tr>\n",
              "    <tr>\n",
              "      <th>2</th>\n",
              "      <td>M Chinnaswamy Stadium</td>\n",
              "      <td>Kolkata Knight Riders</td>\n",
              "      <td>Royal Challengers Bangalore</td>\n",
              "      <td>2</td>\n",
              "      <td>0</td>\n",
              "      <td>0.2</td>\n",
              "      <td>2</td>\n",
              "      <td>0</td>\n",
              "      <td>222</td>\n",
              "    </tr>\n",
              "    <tr>\n",
              "      <th>3</th>\n",
              "      <td>M Chinnaswamy Stadium</td>\n",
              "      <td>Kolkata Knight Riders</td>\n",
              "      <td>Royal Challengers Bangalore</td>\n",
              "      <td>2</td>\n",
              "      <td>0</td>\n",
              "      <td>0.3</td>\n",
              "      <td>2</td>\n",
              "      <td>0</td>\n",
              "      <td>222</td>\n",
              "    </tr>\n",
              "    <tr>\n",
              "      <th>4</th>\n",
              "      <td>M Chinnaswamy Stadium</td>\n",
              "      <td>Kolkata Knight Riders</td>\n",
              "      <td>Royal Challengers Bangalore</td>\n",
              "      <td>2</td>\n",
              "      <td>0</td>\n",
              "      <td>0.4</td>\n",
              "      <td>2</td>\n",
              "      <td>0</td>\n",
              "      <td>222</td>\n",
              "    </tr>\n",
              "  </tbody>\n",
              "</table>\n",
              "</div>"
            ],
            "text/plain": [
              "                   venue           batting_team  ... wickets_last_5  total\n",
              "0  M Chinnaswamy Stadium  Kolkata Knight Riders  ...              0    222\n",
              "1  M Chinnaswamy Stadium  Kolkata Knight Riders  ...              0    222\n",
              "2  M Chinnaswamy Stadium  Kolkata Knight Riders  ...              0    222\n",
              "3  M Chinnaswamy Stadium  Kolkata Knight Riders  ...              0    222\n",
              "4  M Chinnaswamy Stadium  Kolkata Knight Riders  ...              0    222\n",
              "\n",
              "[5 rows x 9 columns]"
            ]
          },
          "metadata": {
            "tags": []
          },
          "execution_count": 5
        }
      ]
    },
    {
      "cell_type": "code",
      "metadata": {
        "colab": {
          "base_uri": "https://localhost:8080/"
        },
        "id": "qblGsWquv9-r",
        "outputId": "f801e5ce-7be5-453b-f271-cd343a77b663"
      },
      "source": [
        "#veiwing unique values in venue and battting_team\n",
        "print(ipl['venue'].unique())\n",
        "ipl['batting_team'].unique()\n",
        "ipl['count'] = 1\n",
        "ipl.groupby(['venue']).count()['count']"
      ],
      "execution_count": null,
      "outputs": [
        {
          "output_type": "stream",
          "text": [
            "['M Chinnaswamy Stadium' 'Punjab Cricket Association Stadium, Mohali'\n",
            " 'Feroz Shah Kotla' 'Wankhede Stadium' 'Eden Gardens'\n",
            " 'Sawai Mansingh Stadium' 'Rajiv Gandhi International Stadium, Uppal'\n",
            " 'MA Chidambaram Stadium, Chepauk' 'Dr DY Patil Sports Academy' 'Newlands'\n",
            " \"St George's Park\" 'Kingsmead' 'SuperSport Park' 'Buffalo Park'\n",
            " 'New Wanderers Stadium' 'De Beers Diamond Oval' 'OUTsurance Oval'\n",
            " 'Brabourne Stadium' 'Sardar Patel Stadium, Motera' 'Barabati Stadium'\n",
            " 'Vidarbha Cricket Association Stadium, Jamtha'\n",
            " 'Himachal Pradesh Cricket Association Stadium' 'Nehru Stadium'\n",
            " 'Holkar Cricket Stadium'\n",
            " 'Dr. Y.S. Rajasekhara Reddy ACA-VDCA Cricket Stadium'\n",
            " 'Subrata Roy Sahara Stadium'\n",
            " 'Shaheed Veer Narayan Singh International Stadium'\n",
            " 'JSCA International Stadium Complex' 'Sheikh Zayed Stadium'\n",
            " 'Sharjah Cricket Stadium' 'Dubai International Cricket Stadium'\n",
            " 'Maharashtra Cricket Association Stadium'\n",
            " 'Punjab Cricket Association IS Bindra Stadium, Mohali'\n",
            " 'Saurashtra Cricket Association Stadium' 'Green Park']\n"
          ],
          "name": "stdout"
        },
        {
          "output_type": "execute_result",
          "data": {
            "text/plain": [
              "venue\n",
              "Barabati Stadium                                         856\n",
              "Brabourne Stadium                                       1380\n",
              "Buffalo Park                                             380\n",
              "De Beers Diamond Oval                                    368\n",
              "Dr DY Patil Sports Academy                              2088\n",
              "Dr. Y.S. Rajasekhara Reddy ACA-VDCA Cricket Stadium     1113\n",
              "Dubai International Cricket Stadium                      868\n",
              "Eden Gardens                                            7049\n",
              "Feroz Shah Kotla                                        7068\n",
              "Green Park                                               492\n",
              "Himachal Pradesh Cricket Association Stadium            1115\n",
              "Holkar Cricket Stadium                                   617\n",
              "JSCA International Stadium Complex                       837\n",
              "Kingsmead                                               1731\n",
              "M Chinnaswamy Stadium                                   7443\n",
              "MA Chidambaram Stadium, Chepauk                         5972\n",
              "Maharashtra Cricket Association Stadium                 1843\n",
              "Nehru Stadium                                            499\n",
              "New Wanderers Stadium                                    995\n",
              "Newlands                                                 737\n",
              "OUTsurance Oval                                          251\n",
              "Punjab Cricket Association IS Bindra Stadium, Mohali    1342\n",
              "Punjab Cricket Association Stadium, Mohali              4247\n",
              "Rajiv Gandhi International Stadium, Uppal               5827\n",
              "Sardar Patel Stadium, Motera                            1484\n",
              "Saurashtra Cricket Association Stadium                  1229\n",
              "Sawai Mansingh Stadium                                  4110\n",
              "Shaheed Veer Narayan Singh International Stadium         742\n",
              "Sharjah Cricket Stadium                                  744\n",
              "Sheikh Zayed Stadium                                     836\n",
              "St George's Park                                         870\n",
              "Subrata Roy Sahara Stadium                              2086\n",
              "SuperSport Park                                         1377\n",
              "Vidarbha Cricket Association Stadium, Jamtha             370\n",
              "Wankhede Stadium                                        7048\n",
              "Name: count, dtype: int64"
            ]
          },
          "metadata": {
            "tags": []
          },
          "execution_count": 6
        }
      ]
    },
    {
      "cell_type": "code",
      "metadata": {
        "colab": {
          "base_uri": "https://localhost:8080/",
          "height": 205
        },
        "id": "BQ6ETIkvwY65",
        "outputId": "7d41bf2f-1fce-41c5-c82f-1aebf7d8f9ca"
      },
      "source": [
        "#retainig the current teams alone(2021)\n",
        "current_teams = ['Kolkata Knight Riders', 'Chennai Super Kings', 'Rajasthan Royals',\n",
        "       'Mumbai Indians', 'Kings XI Punjab',\n",
        "       'Royal Challengers Bangalore', 'Delhi Daredevils',\n",
        "       'Sunrisers Hyderabad']\n",
        "current_venues = ['M Chinnaswamy Stadium','Eden Gardens', 'Feroz Shah Kotla', 'MA Chidambaram Stadium, Chepauk',\n",
        "       'Punjab Cricket Association Stadium, Mohali', \n",
        "       'Wankhede Stadium', 'Sawai Mansingh Stadium',\n",
        "       'Rajiv Gandhi International Stadium, Uppal']\n",
        "ipl = ipl[(ipl['batting_team'].isin(current_teams)) &(ipl['bowling_team'].isin(current_teams))]\n",
        "ipl = ipl[(ipl['venue'].isin(current_venues))]\n",
        "ipl = ipl[ipl['overs']>=5.0]\n",
        "ipl.head()"
      ],
      "execution_count": null,
      "outputs": [
        {
          "output_type": "execute_result",
          "data": {
            "text/html": [
              "<div>\n",
              "<style scoped>\n",
              "    .dataframe tbody tr th:only-of-type {\n",
              "        vertical-align: middle;\n",
              "    }\n",
              "\n",
              "    .dataframe tbody tr th {\n",
              "        vertical-align: top;\n",
              "    }\n",
              "\n",
              "    .dataframe thead th {\n",
              "        text-align: right;\n",
              "    }\n",
              "</style>\n",
              "<table border=\"1\" class=\"dataframe\">\n",
              "  <thead>\n",
              "    <tr style=\"text-align: right;\">\n",
              "      <th></th>\n",
              "      <th>venue</th>\n",
              "      <th>batting_team</th>\n",
              "      <th>bowling_team</th>\n",
              "      <th>runs</th>\n",
              "      <th>wickets</th>\n",
              "      <th>overs</th>\n",
              "      <th>runs_last_5</th>\n",
              "      <th>wickets_last_5</th>\n",
              "      <th>total</th>\n",
              "      <th>count</th>\n",
              "    </tr>\n",
              "  </thead>\n",
              "  <tbody>\n",
              "    <tr>\n",
              "      <th>32</th>\n",
              "      <td>M Chinnaswamy Stadium</td>\n",
              "      <td>Kolkata Knight Riders</td>\n",
              "      <td>Royal Challengers Bangalore</td>\n",
              "      <td>61</td>\n",
              "      <td>0</td>\n",
              "      <td>5.1</td>\n",
              "      <td>59</td>\n",
              "      <td>0</td>\n",
              "      <td>222</td>\n",
              "      <td>1</td>\n",
              "    </tr>\n",
              "    <tr>\n",
              "      <th>33</th>\n",
              "      <td>M Chinnaswamy Stadium</td>\n",
              "      <td>Kolkata Knight Riders</td>\n",
              "      <td>Royal Challengers Bangalore</td>\n",
              "      <td>61</td>\n",
              "      <td>1</td>\n",
              "      <td>5.2</td>\n",
              "      <td>59</td>\n",
              "      <td>1</td>\n",
              "      <td>222</td>\n",
              "      <td>1</td>\n",
              "    </tr>\n",
              "    <tr>\n",
              "      <th>34</th>\n",
              "      <td>M Chinnaswamy Stadium</td>\n",
              "      <td>Kolkata Knight Riders</td>\n",
              "      <td>Royal Challengers Bangalore</td>\n",
              "      <td>61</td>\n",
              "      <td>1</td>\n",
              "      <td>5.3</td>\n",
              "      <td>59</td>\n",
              "      <td>1</td>\n",
              "      <td>222</td>\n",
              "      <td>1</td>\n",
              "    </tr>\n",
              "    <tr>\n",
              "      <th>35</th>\n",
              "      <td>M Chinnaswamy Stadium</td>\n",
              "      <td>Kolkata Knight Riders</td>\n",
              "      <td>Royal Challengers Bangalore</td>\n",
              "      <td>61</td>\n",
              "      <td>1</td>\n",
              "      <td>5.4</td>\n",
              "      <td>59</td>\n",
              "      <td>1</td>\n",
              "      <td>222</td>\n",
              "      <td>1</td>\n",
              "    </tr>\n",
              "    <tr>\n",
              "      <th>36</th>\n",
              "      <td>M Chinnaswamy Stadium</td>\n",
              "      <td>Kolkata Knight Riders</td>\n",
              "      <td>Royal Challengers Bangalore</td>\n",
              "      <td>61</td>\n",
              "      <td>1</td>\n",
              "      <td>5.5</td>\n",
              "      <td>58</td>\n",
              "      <td>1</td>\n",
              "      <td>222</td>\n",
              "      <td>1</td>\n",
              "    </tr>\n",
              "  </tbody>\n",
              "</table>\n",
              "</div>"
            ],
            "text/plain": [
              "                    venue           batting_team  ... total  count\n",
              "32  M Chinnaswamy Stadium  Kolkata Knight Riders  ...   222      1\n",
              "33  M Chinnaswamy Stadium  Kolkata Knight Riders  ...   222      1\n",
              "34  M Chinnaswamy Stadium  Kolkata Knight Riders  ...   222      1\n",
              "35  M Chinnaswamy Stadium  Kolkata Knight Riders  ...   222      1\n",
              "36  M Chinnaswamy Stadium  Kolkata Knight Riders  ...   222      1\n",
              "\n",
              "[5 rows x 10 columns]"
            ]
          },
          "metadata": {
            "tags": []
          },
          "execution_count": 7
        }
      ]
    },
    {
      "cell_type": "code",
      "metadata": {
        "colab": {
          "base_uri": "https://localhost:8080/",
          "height": 295
        },
        "id": "2SemYu7vwknT",
        "outputId": "5da0b989-c380-4d89-b3a5-a4c9b22cc216"
      },
      "source": [
        "#creating dummies for categorical data\n",
        "final_ipl = pd.get_dummies(data=ipl, columns=['batting_team', 'bowling_team', 'venue'])\n",
        "final_ipl.head()"
      ],
      "execution_count": null,
      "outputs": [
        {
          "output_type": "execute_result",
          "data": {
            "text/html": [
              "<div>\n",
              "<style scoped>\n",
              "    .dataframe tbody tr th:only-of-type {\n",
              "        vertical-align: middle;\n",
              "    }\n",
              "\n",
              "    .dataframe tbody tr th {\n",
              "        vertical-align: top;\n",
              "    }\n",
              "\n",
              "    .dataframe thead th {\n",
              "        text-align: right;\n",
              "    }\n",
              "</style>\n",
              "<table border=\"1\" class=\"dataframe\">\n",
              "  <thead>\n",
              "    <tr style=\"text-align: right;\">\n",
              "      <th></th>\n",
              "      <th>runs</th>\n",
              "      <th>wickets</th>\n",
              "      <th>overs</th>\n",
              "      <th>runs_last_5</th>\n",
              "      <th>wickets_last_5</th>\n",
              "      <th>total</th>\n",
              "      <th>count</th>\n",
              "      <th>batting_team_Chennai Super Kings</th>\n",
              "      <th>batting_team_Delhi Daredevils</th>\n",
              "      <th>batting_team_Kings XI Punjab</th>\n",
              "      <th>batting_team_Kolkata Knight Riders</th>\n",
              "      <th>batting_team_Mumbai Indians</th>\n",
              "      <th>batting_team_Rajasthan Royals</th>\n",
              "      <th>batting_team_Royal Challengers Bangalore</th>\n",
              "      <th>batting_team_Sunrisers Hyderabad</th>\n",
              "      <th>bowling_team_Chennai Super Kings</th>\n",
              "      <th>bowling_team_Delhi Daredevils</th>\n",
              "      <th>bowling_team_Kings XI Punjab</th>\n",
              "      <th>bowling_team_Kolkata Knight Riders</th>\n",
              "      <th>bowling_team_Mumbai Indians</th>\n",
              "      <th>bowling_team_Rajasthan Royals</th>\n",
              "      <th>bowling_team_Royal Challengers Bangalore</th>\n",
              "      <th>bowling_team_Sunrisers Hyderabad</th>\n",
              "      <th>venue_Eden Gardens</th>\n",
              "      <th>venue_Feroz Shah Kotla</th>\n",
              "      <th>venue_M Chinnaswamy Stadium</th>\n",
              "      <th>venue_MA Chidambaram Stadium, Chepauk</th>\n",
              "      <th>venue_Punjab Cricket Association Stadium, Mohali</th>\n",
              "      <th>venue_Rajiv Gandhi International Stadium, Uppal</th>\n",
              "      <th>venue_Sawai Mansingh Stadium</th>\n",
              "      <th>venue_Wankhede Stadium</th>\n",
              "    </tr>\n",
              "  </thead>\n",
              "  <tbody>\n",
              "    <tr>\n",
              "      <th>32</th>\n",
              "      <td>61</td>\n",
              "      <td>0</td>\n",
              "      <td>5.1</td>\n",
              "      <td>59</td>\n",
              "      <td>0</td>\n",
              "      <td>222</td>\n",
              "      <td>1</td>\n",
              "      <td>0</td>\n",
              "      <td>0</td>\n",
              "      <td>0</td>\n",
              "      <td>1</td>\n",
              "      <td>0</td>\n",
              "      <td>0</td>\n",
              "      <td>0</td>\n",
              "      <td>0</td>\n",
              "      <td>0</td>\n",
              "      <td>0</td>\n",
              "      <td>0</td>\n",
              "      <td>0</td>\n",
              "      <td>0</td>\n",
              "      <td>0</td>\n",
              "      <td>1</td>\n",
              "      <td>0</td>\n",
              "      <td>0</td>\n",
              "      <td>0</td>\n",
              "      <td>1</td>\n",
              "      <td>0</td>\n",
              "      <td>0</td>\n",
              "      <td>0</td>\n",
              "      <td>0</td>\n",
              "      <td>0</td>\n",
              "    </tr>\n",
              "    <tr>\n",
              "      <th>33</th>\n",
              "      <td>61</td>\n",
              "      <td>1</td>\n",
              "      <td>5.2</td>\n",
              "      <td>59</td>\n",
              "      <td>1</td>\n",
              "      <td>222</td>\n",
              "      <td>1</td>\n",
              "      <td>0</td>\n",
              "      <td>0</td>\n",
              "      <td>0</td>\n",
              "      <td>1</td>\n",
              "      <td>0</td>\n",
              "      <td>0</td>\n",
              "      <td>0</td>\n",
              "      <td>0</td>\n",
              "      <td>0</td>\n",
              "      <td>0</td>\n",
              "      <td>0</td>\n",
              "      <td>0</td>\n",
              "      <td>0</td>\n",
              "      <td>0</td>\n",
              "      <td>1</td>\n",
              "      <td>0</td>\n",
              "      <td>0</td>\n",
              "      <td>0</td>\n",
              "      <td>1</td>\n",
              "      <td>0</td>\n",
              "      <td>0</td>\n",
              "      <td>0</td>\n",
              "      <td>0</td>\n",
              "      <td>0</td>\n",
              "    </tr>\n",
              "    <tr>\n",
              "      <th>34</th>\n",
              "      <td>61</td>\n",
              "      <td>1</td>\n",
              "      <td>5.3</td>\n",
              "      <td>59</td>\n",
              "      <td>1</td>\n",
              "      <td>222</td>\n",
              "      <td>1</td>\n",
              "      <td>0</td>\n",
              "      <td>0</td>\n",
              "      <td>0</td>\n",
              "      <td>1</td>\n",
              "      <td>0</td>\n",
              "      <td>0</td>\n",
              "      <td>0</td>\n",
              "      <td>0</td>\n",
              "      <td>0</td>\n",
              "      <td>0</td>\n",
              "      <td>0</td>\n",
              "      <td>0</td>\n",
              "      <td>0</td>\n",
              "      <td>0</td>\n",
              "      <td>1</td>\n",
              "      <td>0</td>\n",
              "      <td>0</td>\n",
              "      <td>0</td>\n",
              "      <td>1</td>\n",
              "      <td>0</td>\n",
              "      <td>0</td>\n",
              "      <td>0</td>\n",
              "      <td>0</td>\n",
              "      <td>0</td>\n",
              "    </tr>\n",
              "    <tr>\n",
              "      <th>35</th>\n",
              "      <td>61</td>\n",
              "      <td>1</td>\n",
              "      <td>5.4</td>\n",
              "      <td>59</td>\n",
              "      <td>1</td>\n",
              "      <td>222</td>\n",
              "      <td>1</td>\n",
              "      <td>0</td>\n",
              "      <td>0</td>\n",
              "      <td>0</td>\n",
              "      <td>1</td>\n",
              "      <td>0</td>\n",
              "      <td>0</td>\n",
              "      <td>0</td>\n",
              "      <td>0</td>\n",
              "      <td>0</td>\n",
              "      <td>0</td>\n",
              "      <td>0</td>\n",
              "      <td>0</td>\n",
              "      <td>0</td>\n",
              "      <td>0</td>\n",
              "      <td>1</td>\n",
              "      <td>0</td>\n",
              "      <td>0</td>\n",
              "      <td>0</td>\n",
              "      <td>1</td>\n",
              "      <td>0</td>\n",
              "      <td>0</td>\n",
              "      <td>0</td>\n",
              "      <td>0</td>\n",
              "      <td>0</td>\n",
              "    </tr>\n",
              "    <tr>\n",
              "      <th>36</th>\n",
              "      <td>61</td>\n",
              "      <td>1</td>\n",
              "      <td>5.5</td>\n",
              "      <td>58</td>\n",
              "      <td>1</td>\n",
              "      <td>222</td>\n",
              "      <td>1</td>\n",
              "      <td>0</td>\n",
              "      <td>0</td>\n",
              "      <td>0</td>\n",
              "      <td>1</td>\n",
              "      <td>0</td>\n",
              "      <td>0</td>\n",
              "      <td>0</td>\n",
              "      <td>0</td>\n",
              "      <td>0</td>\n",
              "      <td>0</td>\n",
              "      <td>0</td>\n",
              "      <td>0</td>\n",
              "      <td>0</td>\n",
              "      <td>0</td>\n",
              "      <td>1</td>\n",
              "      <td>0</td>\n",
              "      <td>0</td>\n",
              "      <td>0</td>\n",
              "      <td>1</td>\n",
              "      <td>0</td>\n",
              "      <td>0</td>\n",
              "      <td>0</td>\n",
              "      <td>0</td>\n",
              "      <td>0</td>\n",
              "    </tr>\n",
              "  </tbody>\n",
              "</table>\n",
              "</div>"
            ],
            "text/plain": [
              "    runs  wickets  ...  venue_Sawai Mansingh Stadium  venue_Wankhede Stadium\n",
              "32    61        0  ...                             0                       0\n",
              "33    61        1  ...                             0                       0\n",
              "34    61        1  ...                             0                       0\n",
              "35    61        1  ...                             0                       0\n",
              "36    61        1  ...                             0                       0\n",
              "\n",
              "[5 rows x 31 columns]"
            ]
          },
          "metadata": {
            "tags": []
          },
          "execution_count": 8
        }
      ]
    },
    {
      "cell_type": "code",
      "metadata": {
        "colab": {
          "base_uri": "https://localhost:8080/",
          "height": 295
        },
        "id": "ro8D9IQ1wozi",
        "outputId": "9c530f1f-33d9-42ea-dd4f-595758715f62"
      },
      "source": [
        "#rearranging the feature columns \n",
        "final_ipl = final_ipl[['batting_team_Chennai Super Kings', 'batting_team_Delhi Daredevils',\n",
        "       'batting_team_Kings XI Punjab', 'batting_team_Kolkata Knight Riders',\n",
        "       'batting_team_Mumbai Indians', 'batting_team_Rajasthan Royals',\n",
        "       'batting_team_Royal Challengers Bangalore', 'batting_team_Sunrisers Hyderabad',\n",
        "       'bowling_team_Chennai Super Kings', 'bowling_team_Delhi Daredevils',\n",
        "       'bowling_team_Kings XI Punjab', 'bowling_team_Kolkata Knight Riders',\n",
        "       'bowling_team_Mumbai Indians', 'bowling_team_Rajasthan Royals',\n",
        "       'bowling_team_Royal Challengers Bangalore',\n",
        "       'bowling_team_Sunrisers Hyderabad', 'venue_Eden Gardens',\n",
        "       'venue_Feroz Shah Kotla','venue_M Chinnaswamy Stadium',\n",
        "       'venue_MA Chidambaram Stadium, Chepauk','venue_Sawai Mansingh Stadium',\n",
        "       'venue_Punjab Cricket Association Stadium, Mohali',\n",
        "       'venue_Rajiv Gandhi International Stadium, Uppal',\n",
        "       'venue_Wankhede Stadium', 'overs','runs', 'wickets', 'runs_last_5', 'wickets_last_5',\n",
        "       ]]\n",
        "target=ipl['total']\n",
        "final_ipl.head()"
      ],
      "execution_count": null,
      "outputs": [
        {
          "output_type": "execute_result",
          "data": {
            "text/html": [
              "<div>\n",
              "<style scoped>\n",
              "    .dataframe tbody tr th:only-of-type {\n",
              "        vertical-align: middle;\n",
              "    }\n",
              "\n",
              "    .dataframe tbody tr th {\n",
              "        vertical-align: top;\n",
              "    }\n",
              "\n",
              "    .dataframe thead th {\n",
              "        text-align: right;\n",
              "    }\n",
              "</style>\n",
              "<table border=\"1\" class=\"dataframe\">\n",
              "  <thead>\n",
              "    <tr style=\"text-align: right;\">\n",
              "      <th></th>\n",
              "      <th>batting_team_Chennai Super Kings</th>\n",
              "      <th>batting_team_Delhi Daredevils</th>\n",
              "      <th>batting_team_Kings XI Punjab</th>\n",
              "      <th>batting_team_Kolkata Knight Riders</th>\n",
              "      <th>batting_team_Mumbai Indians</th>\n",
              "      <th>batting_team_Rajasthan Royals</th>\n",
              "      <th>batting_team_Royal Challengers Bangalore</th>\n",
              "      <th>batting_team_Sunrisers Hyderabad</th>\n",
              "      <th>bowling_team_Chennai Super Kings</th>\n",
              "      <th>bowling_team_Delhi Daredevils</th>\n",
              "      <th>bowling_team_Kings XI Punjab</th>\n",
              "      <th>bowling_team_Kolkata Knight Riders</th>\n",
              "      <th>bowling_team_Mumbai Indians</th>\n",
              "      <th>bowling_team_Rajasthan Royals</th>\n",
              "      <th>bowling_team_Royal Challengers Bangalore</th>\n",
              "      <th>bowling_team_Sunrisers Hyderabad</th>\n",
              "      <th>venue_Eden Gardens</th>\n",
              "      <th>venue_Feroz Shah Kotla</th>\n",
              "      <th>venue_M Chinnaswamy Stadium</th>\n",
              "      <th>venue_MA Chidambaram Stadium, Chepauk</th>\n",
              "      <th>venue_Sawai Mansingh Stadium</th>\n",
              "      <th>venue_Punjab Cricket Association Stadium, Mohali</th>\n",
              "      <th>venue_Rajiv Gandhi International Stadium, Uppal</th>\n",
              "      <th>venue_Wankhede Stadium</th>\n",
              "      <th>overs</th>\n",
              "      <th>runs</th>\n",
              "      <th>wickets</th>\n",
              "      <th>runs_last_5</th>\n",
              "      <th>wickets_last_5</th>\n",
              "    </tr>\n",
              "  </thead>\n",
              "  <tbody>\n",
              "    <tr>\n",
              "      <th>32</th>\n",
              "      <td>0</td>\n",
              "      <td>0</td>\n",
              "      <td>0</td>\n",
              "      <td>1</td>\n",
              "      <td>0</td>\n",
              "      <td>0</td>\n",
              "      <td>0</td>\n",
              "      <td>0</td>\n",
              "      <td>0</td>\n",
              "      <td>0</td>\n",
              "      <td>0</td>\n",
              "      <td>0</td>\n",
              "      <td>0</td>\n",
              "      <td>0</td>\n",
              "      <td>1</td>\n",
              "      <td>0</td>\n",
              "      <td>0</td>\n",
              "      <td>0</td>\n",
              "      <td>1</td>\n",
              "      <td>0</td>\n",
              "      <td>0</td>\n",
              "      <td>0</td>\n",
              "      <td>0</td>\n",
              "      <td>0</td>\n",
              "      <td>5.1</td>\n",
              "      <td>61</td>\n",
              "      <td>0</td>\n",
              "      <td>59</td>\n",
              "      <td>0</td>\n",
              "    </tr>\n",
              "    <tr>\n",
              "      <th>33</th>\n",
              "      <td>0</td>\n",
              "      <td>0</td>\n",
              "      <td>0</td>\n",
              "      <td>1</td>\n",
              "      <td>0</td>\n",
              "      <td>0</td>\n",
              "      <td>0</td>\n",
              "      <td>0</td>\n",
              "      <td>0</td>\n",
              "      <td>0</td>\n",
              "      <td>0</td>\n",
              "      <td>0</td>\n",
              "      <td>0</td>\n",
              "      <td>0</td>\n",
              "      <td>1</td>\n",
              "      <td>0</td>\n",
              "      <td>0</td>\n",
              "      <td>0</td>\n",
              "      <td>1</td>\n",
              "      <td>0</td>\n",
              "      <td>0</td>\n",
              "      <td>0</td>\n",
              "      <td>0</td>\n",
              "      <td>0</td>\n",
              "      <td>5.2</td>\n",
              "      <td>61</td>\n",
              "      <td>1</td>\n",
              "      <td>59</td>\n",
              "      <td>1</td>\n",
              "    </tr>\n",
              "    <tr>\n",
              "      <th>34</th>\n",
              "      <td>0</td>\n",
              "      <td>0</td>\n",
              "      <td>0</td>\n",
              "      <td>1</td>\n",
              "      <td>0</td>\n",
              "      <td>0</td>\n",
              "      <td>0</td>\n",
              "      <td>0</td>\n",
              "      <td>0</td>\n",
              "      <td>0</td>\n",
              "      <td>0</td>\n",
              "      <td>0</td>\n",
              "      <td>0</td>\n",
              "      <td>0</td>\n",
              "      <td>1</td>\n",
              "      <td>0</td>\n",
              "      <td>0</td>\n",
              "      <td>0</td>\n",
              "      <td>1</td>\n",
              "      <td>0</td>\n",
              "      <td>0</td>\n",
              "      <td>0</td>\n",
              "      <td>0</td>\n",
              "      <td>0</td>\n",
              "      <td>5.3</td>\n",
              "      <td>61</td>\n",
              "      <td>1</td>\n",
              "      <td>59</td>\n",
              "      <td>1</td>\n",
              "    </tr>\n",
              "    <tr>\n",
              "      <th>35</th>\n",
              "      <td>0</td>\n",
              "      <td>0</td>\n",
              "      <td>0</td>\n",
              "      <td>1</td>\n",
              "      <td>0</td>\n",
              "      <td>0</td>\n",
              "      <td>0</td>\n",
              "      <td>0</td>\n",
              "      <td>0</td>\n",
              "      <td>0</td>\n",
              "      <td>0</td>\n",
              "      <td>0</td>\n",
              "      <td>0</td>\n",
              "      <td>0</td>\n",
              "      <td>1</td>\n",
              "      <td>0</td>\n",
              "      <td>0</td>\n",
              "      <td>0</td>\n",
              "      <td>1</td>\n",
              "      <td>0</td>\n",
              "      <td>0</td>\n",
              "      <td>0</td>\n",
              "      <td>0</td>\n",
              "      <td>0</td>\n",
              "      <td>5.4</td>\n",
              "      <td>61</td>\n",
              "      <td>1</td>\n",
              "      <td>59</td>\n",
              "      <td>1</td>\n",
              "    </tr>\n",
              "    <tr>\n",
              "      <th>36</th>\n",
              "      <td>0</td>\n",
              "      <td>0</td>\n",
              "      <td>0</td>\n",
              "      <td>1</td>\n",
              "      <td>0</td>\n",
              "      <td>0</td>\n",
              "      <td>0</td>\n",
              "      <td>0</td>\n",
              "      <td>0</td>\n",
              "      <td>0</td>\n",
              "      <td>0</td>\n",
              "      <td>0</td>\n",
              "      <td>0</td>\n",
              "      <td>0</td>\n",
              "      <td>1</td>\n",
              "      <td>0</td>\n",
              "      <td>0</td>\n",
              "      <td>0</td>\n",
              "      <td>1</td>\n",
              "      <td>0</td>\n",
              "      <td>0</td>\n",
              "      <td>0</td>\n",
              "      <td>0</td>\n",
              "      <td>0</td>\n",
              "      <td>5.5</td>\n",
              "      <td>61</td>\n",
              "      <td>1</td>\n",
              "      <td>58</td>\n",
              "      <td>1</td>\n",
              "    </tr>\n",
              "  </tbody>\n",
              "</table>\n",
              "</div>"
            ],
            "text/plain": [
              "    batting_team_Chennai Super Kings  ...  wickets_last_5\n",
              "32                                 0  ...               0\n",
              "33                                 0  ...               1\n",
              "34                                 0  ...               1\n",
              "35                                 0  ...               1\n",
              "36                                 0  ...               1\n",
              "\n",
              "[5 rows x 29 columns]"
            ]
          },
          "metadata": {
            "tags": []
          },
          "execution_count": 9
        }
      ]
    },
    {
      "cell_type": "code",
      "metadata": {
        "colab": {
          "base_uri": "https://localhost:8080/"
        },
        "id": "aYJEPsVkwrB6",
        "outputId": "c82f2271-8f34-44c1-c244-4bb5704ea72f"
      },
      "source": [
        "#Spliting data into Training, Validation, Testing sets(0.6, 0.2, 0.2)\n",
        "X_train, X_dummy, Y_train, Y_dummy = train_test_split(final_ipl, target, test_size=0.4)\n",
        "X_test, X_val, Y_test, Y_val =train_test_split(X_dummy, Y_dummy, test_size=0.5)\n",
        "print(X_train.shape)\n",
        "print(X_test.shape)\n",
        "print(X_val.shape)"
      ],
      "execution_count": null,
      "outputs": [
        {
          "output_type": "stream",
          "text": [
            "(17164, 29)\n",
            "(5722, 29)\n",
            "(5722, 29)\n"
          ],
          "name": "stdout"
        }
      ]
    },
    {
      "cell_type": "code",
      "metadata": {
        "id": "FIe6YUCcx96n"
      },
      "source": [
        "#Creating a dictionary to store performance of different models\n",
        "models=dict()"
      ],
      "execution_count": 147,
      "outputs": []
    },
    {
      "cell_type": "markdown",
      "metadata": {
        "id": "fQLl-l8gyJEe"
      },
      "source": [
        "**LINEAR REGRESSION**"
      ]
    },
    {
      "cell_type": "code",
      "metadata": {
        "colab": {
          "base_uri": "https://localhost:8080/"
        },
        "id": "YWER1raNyHUd",
        "outputId": "7a89a671-b25e-4753-e8cd-e8b3fd1df33c"
      },
      "source": [
        "#LinearRegression\n",
        "from sklearn.linear_model import LinearRegression\n",
        "\n",
        "#model fitting\n",
        "lin_reg= LinearRegression()\n",
        "lin_reg.fit(X_train,Y_train)\n",
        "\n",
        "#predicting validation set\n",
        "Y_val_lin_reg = lin_reg.predict(X_val)\n",
        "\n",
        "#importing metrics to find score\n",
        "from sklearn import metrics\n",
        "\n",
        "#calculating score of training data\n",
        "train_score_lin_reg = str(lin_reg.score(X_train,Y_train) * 100)\n",
        "print(\"score on train data :\",train_score_lin_reg)\n",
        "\n",
        "#calculating score of validation data\n",
        "val_score_lin_reg = str(lin_reg.score(X_val,Y_val) * 100)\n",
        "print(\"score on  validation data :\",val_score_lin_reg)"
      ],
      "execution_count": 105,
      "outputs": [
        {
          "output_type": "stream",
          "text": [
            "score on train data : 67.23787871604989\n",
            "score on  validation data : 67.56111943900378\n"
          ],
          "name": "stdout"
        }
      ]
    },
    {
      "cell_type": "code",
      "metadata": {
        "id": "labQwrYvQCcg"
      },
      "source": [
        "#adding the score in the dictionary\n",
        "models['lin_reg']=val_score_lin_reg"
      ],
      "execution_count": 148,
      "outputs": []
    },
    {
      "cell_type": "markdown",
      "metadata": {
        "id": "mblNkCxi1asT"
      },
      "source": [
        "SUPPORT VECTOR MACHINE"
      ]
    },
    {
      "cell_type": "code",
      "metadata": {
        "colab": {
          "base_uri": "https://localhost:8080/"
        },
        "id": "JFkcfOL6m_j1",
        "outputId": "d1b8d61f-0983-4da1-f8f3-6fc42580700e"
      },
      "source": [
        "#importing SVR(support vector regression)\n",
        "from sklearn.svm import SVR\n",
        "\n",
        "#model fitting\n",
        "svm=SVR(kernel='linear')\n",
        "svm.fit(X_train,Y_train)\n",
        "\n",
        "#predicting validation set\n",
        "svm.predict(X_val)\n",
        "\n",
        "#calculating score of training\n",
        "train_score_svm = str(svm.score(X_train,Y_train) * 100)\n",
        "print(\"score on train data :\",train_score_svm)\n",
        "\n",
        "#calculating score of validation\n",
        "val_score_svm = str(svm.score(X_val,Y_val) * 100)\n",
        "print(\"score on val data :\",val_score_svm)"
      ],
      "execution_count": 106,
      "outputs": [
        {
          "output_type": "stream",
          "text": [
            "score on train data : 66.26439065788703\n",
            "score on val data : 66.74328882253774\n"
          ],
          "name": "stdout"
        }
      ]
    },
    {
      "cell_type": "code",
      "metadata": {
        "id": "Mf-SqjJDP9_d"
      },
      "source": [
        "#adding score in the dictionary\n",
        "models['svm']=val_score_svm"
      ],
      "execution_count": 149,
      "outputs": []
    },
    {
      "cell_type": "markdown",
      "metadata": {
        "id": "hzP05FRqsofx"
      },
      "source": [
        "**DECISION TREE**"
      ]
    },
    {
      "cell_type": "code",
      "metadata": {
        "id": "a4XT8FOjzMI4",
        "colab": {
          "base_uri": "https://localhost:8080/"
        },
        "outputId": "d3ff179c-0cb7-4235-915f-86ad72cbf4c1"
      },
      "source": [
        "#importing Decision Tree\n",
        "from sklearn.tree import DecisionTreeRegressor\n",
        "\n",
        "#model fitting\n",
        "tree = DecisionTreeRegressor(max_depth=40)\n",
        "tree.fit(X_train, Y_train)\n",
        "\n",
        "#predicting the validation data\n",
        "tree.predict(X_val)\n",
        "\n",
        "#calculating score of training data\n",
        "train_score_tree = str(tree.score(X_train,Y_train) * 100)\n",
        "print(\"score on train data :\",train_score_tree)\n",
        "\n",
        "#calulating score of validation data\n",
        "val_score_tree = str(tree.score(X_val,Y_val) * 100)\n",
        "print(\"score on validation data :\",val_score_tree)"
      ],
      "execution_count": 108,
      "outputs": [
        {
          "output_type": "stream",
          "text": [
            "score on train data : 99.99372832205916\n",
            "score on validation data : 88.64431775721027\n"
          ],
          "name": "stdout"
        }
      ]
    },
    {
      "cell_type": "code",
      "metadata": {
        "id": "rmnGm7TLP6mL"
      },
      "source": [
        "#adding validation data score in the dictionary\n",
        "models['tree']=test_score_tree"
      ],
      "execution_count": 150,
      "outputs": []
    },
    {
      "cell_type": "markdown",
      "metadata": {
        "id": "oMgr2P1Khu-L"
      },
      "source": [
        "**BOSTING(USING DECISION TREE)**"
      ]
    },
    {
      "cell_type": "code",
      "metadata": {
        "colab": {
          "base_uri": "https://localhost:8080/"
        },
        "id": "ouwUOK-edrbG",
        "outputId": "0270ee15-7a78-4a90-b5bc-00a1f2e5ce74"
      },
      "source": [
        "#importing Bosting(using decision tree)\n",
        "from sklearn.ensemble import GradientBoostingRegressor\n",
        "\n",
        "#fitting model\n",
        "boost = GradientBoostingRegressor(random_state=0,n_estimators=5000,learning_rate=0.5)\n",
        "boost.fit(X_train,Y_train)\n",
        "\n",
        "#predicting the validation data\n",
        "boost.predict(X_val)\n",
        "\n",
        "#calculating score of training data\n",
        "train_score_boost = str(boost.score(X_train,Y_train) * 100)\n",
        "print(\"score on train data :\",train_score_boost)\n",
        "\n",
        "#calculating score of validation data\n",
        "val_score_boost = str(boost.score(X_val,Y_val) * 100)\n",
        "print(\"score on validation data :\",val_score_boost)"
      ],
      "execution_count": 110,
      "outputs": [
        {
          "output_type": "stream",
          "text": [
            "score on train data : 98.04668703378762\n",
            "score on validation data : 92.14739453454546\n"
          ],
          "name": "stdout"
        }
      ]
    },
    {
      "cell_type": "code",
      "metadata": {
        "id": "4bo3LQLuP1Tw"
      },
      "source": [
        "#adding validation data to the dictionary\n",
        "models['boosting']=test_score_boost"
      ],
      "execution_count": 151,
      "outputs": []
    },
    {
      "cell_type": "markdown",
      "metadata": {
        "id": "5jxmd5IPmXMw"
      },
      "source": [
        "**RANDOM FOREST REGRESSION**"
      ]
    },
    {
      "cell_type": "code",
      "metadata": {
        "colab": {
          "base_uri": "https://localhost:8080/"
        },
        "id": "yJ3yhA880chs",
        "outputId": "f550deda-b0ee-4ed9-8b9b-dc129ecd92c3"
      },
      "source": [
        "#importing RandomForest\n",
        "from sklearn.ensemble import RandomForestRegressor\n",
        "\n",
        "#model fitting\n",
        "random_forest = RandomForestRegressor(max_depth=40, n_estimators=1000)\n",
        "random_forest.fit(X_train,Y_train)\n",
        "\n",
        "# predicting validation set\n",
        "Y_pred_random=random_forest.predict(X_test)\n",
        "\n",
        "\n",
        "#calculating score of training data\n",
        "train_score_random = str(random_forest.score(X_train,Y_train) * 100)\n",
        "print(\"score on train data :\",train_score_random)\n",
        "\n",
        "#calculating score of validation data\n",
        "val_score_forest = str(random_forest.score(X_val,Y_val) * 100)\n",
        "print(\"score on test data :\",val_score_forest)"
      ],
      "execution_count": 163,
      "outputs": [
        {
          "output_type": "stream",
          "text": [
            "score on train data : 99.32840807007726\n",
            "score on test data : 94.87913428639484\n"
          ],
          "name": "stdout"
        }
      ]
    },
    {
      "cell_type": "code",
      "metadata": {
        "colab": {
          "base_uri": "https://localhost:8080/"
        },
        "id": "2Go4ksOgPwbs",
        "outputId": "b6203457-0622-4ca2-9a52-16d4dacddad5"
      },
      "source": [
        "#adding validation score in the dictionary\n",
        "models['forest']=val_score_forest\n",
        "models"
      ],
      "execution_count": 165,
      "outputs": [
        {
          "output_type": "execute_result",
          "data": {
            "text/plain": [
              "{'MLP': '92.14739453454546',\n",
              " 'boosting': '92.14739453454546',\n",
              " 'forest': '94.87913428639484',\n",
              " 'lin_reg': '67.56111943900378',\n",
              " 'svm': '66.74328882253774',\n",
              " 'tree': '88.2275065033608'}"
            ]
          },
          "metadata": {
            "tags": []
          },
          "execution_count": 165
        }
      ]
    },
    {
      "cell_type": "code",
      "metadata": {
        "colab": {
          "base_uri": "https://localhost:8080/"
        },
        "id": "kX5AYEc5zzAI",
        "outputId": "3cdb6454-c240-4421-b882-0061819e2716"
      },
      "source": [
        "#importing MLP Regressor(neural network)\n",
        "from sklearn.neural_network import MLPRegressor\n",
        "\n",
        "#model fitting\n",
        "mlp=MLPRegressor(activation='relu', hidden_layer_sizes=(60,60,60,60,60,60,60,60,60,60,60,60,60,60,60,60,60,60,60,60,60,60,60,60,60,60,60,60,60),alpha=0.01,max_iter=1000)\n",
        "mlp.fit(X_train,Y_train)\n",
        "\n",
        "#predicting validation set\n",
        "mlp.predict(X_val)\n",
        "\n",
        "#calculating score of training data\n",
        "train_score_mlp = str(mlp.score(X_train,Y_train) * 100)\n",
        "print(\"score on training data :\",train_score_mlp)\n",
        "\n",
        "##calculating score of validation data\n",
        "val_score_mlp = str(mlp.score(X_val,Y_val) * 100)\n",
        "print(\"score on validation data :\",val_score_mlp)"
      ],
      "execution_count": 116,
      "outputs": [
        {
          "output_type": "stream",
          "text": [
            "score on training data : 95.24152770177238\n",
            "score on validation data : 94.08770227168527\n"
          ],
          "name": "stdout"
        }
      ]
    },
    {
      "cell_type": "code",
      "metadata": {
        "id": "pgMgJjEjPqXf"
      },
      "source": [
        "#adding validation score in the dictionary\n",
        "models['MLP']=test_score_reg"
      ],
      "execution_count": 154,
      "outputs": []
    },
    {
      "cell_type": "code",
      "metadata": {
        "colab": {
          "base_uri": "https://localhost:8080/"
        },
        "id": "3LwSkRkLM0vR",
        "outputId": "0f866727-8a3d-4826-ad79-9e079fab07b4"
      },
      "source": [
        "models"
      ],
      "execution_count": 167,
      "outputs": [
        {
          "output_type": "execute_result",
          "data": {
            "text/plain": [
              "{'MLP': '92.14739453454546',\n",
              " 'boosting': '92.14739453454546',\n",
              " 'forest': '94.87913428639484',\n",
              " 'lin_reg': '67.56111943900378',\n",
              " 'svm': '66.74328882253774',\n",
              " 'tree': '88.2275065033608'}"
            ]
          },
          "metadata": {
            "tags": []
          },
          "execution_count": 167
        }
      ]
    },
    {
      "cell_type": "code",
      "metadata": {
        "colab": {
          "base_uri": "https://localhost:8080/"
        },
        "id": "2xxDjjmJVse4",
        "outputId": "b306786e-713b-471f-d3df-a14381d3c2e3"
      },
      "source": [
        "#selecting the best model\n",
        "best_model_score=0\n",
        "for i in models.keys():\n",
        "  if(float(models[i])>float(best_model_score)):\n",
        "    best_model_score=models[i]\n",
        "    best_model=i\n",
        "print(best_model,best_model_score)"
      ],
      "execution_count": 166,
      "outputs": [
        {
          "output_type": "stream",
          "text": [
            "forest 94.87913428639484\n"
          ],
          "name": "stdout"
        }
      ]
    },
    {
      "cell_type": "code",
      "metadata": {
        "colab": {
          "base_uri": "https://localhost:8080/",
          "height": 285
        },
        "id": "FKULV2_KXHzx",
        "outputId": "ddde50d2-1135-4cee-fec8-d6d65fd24389"
      },
      "source": [
        "#representing the score of all models \n",
        "from seaborn import barplot\n",
        "model_names = list(models.keys())\n",
        "accuracy = list(map(float, models.values()))\n",
        "barplot(x=model_names,y=accuracy)"
      ],
      "execution_count": 168,
      "outputs": [
        {
          "output_type": "execute_result",
          "data": {
            "text/plain": [
              "<matplotlib.axes._subplots.AxesSubplot at 0x7f0e00a95710>"
            ]
          },
          "metadata": {
            "tags": []
          },
          "execution_count": 168
        },
        {
          "output_type": "display_data",
          "data": {
            "image/png": "[encoded data removed]",
            "text/plain": [
              "<Figure size 432x288 with 1 Axes>"
            ]
          },
          "metadata": {
            "tags": [],
            "needs_background": "light"
          }
        }
      ]
    },
    {
      "cell_type": "markdown",
      "metadata": {
        "id": "AuBh13OibM1H"
      },
      "source": [
        "From the above bar plot we can see that forest is the clear winner in terms of score. Also the random forest is faster compared to the runner up i.e neural network(MLP). If our aim to have faster result than a precise result we can lean over to Decision tree since it way faster than random forest and gives a pretty decent score."
      ]
    },
    {
      "cell_type": "code",
      "metadata": {
        "colab": {
          "base_uri": "https://localhost:8080/"
        },
        "id": "lOVHrDudZW1n",
        "outputId": "b952f519-ee02-4d9e-e9e2-1aa70068f490"
      },
      "source": [
        "#testing the best model in our testing data\n",
        "Y_pred=random_forest.predict(X_test)\n",
        "print(Y_test)\n",
        "print(Y_pred)\n",
        "val_score_forest = str(random_forest.score(X_test,Y_test) * 100)\n",
        "print(\"score on test data :\",val_score_forest)"
      ],
      "execution_count": 169,
      "outputs": [
        {
          "output_type": "stream",
          "text": [
            "4841      67\n",
            "63243    191\n",
            "43560    174\n",
            "35293    177\n",
            "54838    163\n",
            "        ... \n",
            "45039    154\n",
            "41531    123\n",
            "43576    174\n",
            "33888    156\n",
            "34387    139\n",
            "Name: total, Length: 5722, dtype: int64\n",
            "[ 88.292 186.666 169.614 ... 167.432 159.006 142.826]\n",
            "score on test data : 94.17644014995088\n"
          ],
          "name": "stdout"
        }
      ]
    },
    {
      "cell_type": "markdown",
      "metadata": {
        "id": "o-FRM3h4b_Ea"
      },
      "source": [
        "To make the prediction on test data we here used the Random Forest as we want the prediction of the score to be more precise rather than a mediocre fast prediction."
      ]
    }
  ]
}
