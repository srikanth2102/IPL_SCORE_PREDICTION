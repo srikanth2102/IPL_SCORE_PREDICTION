{
  "nbformat": 4,
  "nbformat_minor": 0,
  "metadata": {
    "colab": {
      "name": "IPL PREDICTION",
      "provenance": [],
      "collapsed_sections": [],
      "authorship_tag": "ABX9TyMbAJOT1QtYwsGeprjyxhUp",
      "include_colab_link": true
    },
    "kernelspec": {
      "name": "python3",
      "display_name": "Python 3"
    },
    "language_info": {
      "name": "python"
    }
  },
  "cells": [
    {
      "cell_type": "markdown",
      "metadata": {
        "id": "view-in-github",
        "colab_type": "text"
      },
      "source": [
        "<a href=\"https://colab.research.google.com/github/srikanth2102/IPL_SCORE_PREDICTION/blob/main/IPL_PREDICTION.ipynb\" target=\"_parent\"><img src=\"https://colab.research.google.com/assets/colab-badge.svg\" alt=\"Open In Colab\"/></a>"
      ]
    },
    {
      "cell_type": "markdown",
      "metadata": {
        "id": "157QkHlH7VcL"
      },
      "source": [
        "**IPL SCORE PREDICTION**"
      ]
    },
    {
      "cell_type": "code",
      "metadata": {
        "id": "FaAfWsL-aHSu"
      },
      "source": [
        "#importing needed libraries\n",
        "import pandas as pd\n",
        "import numpy as np\n",
        "import seaborn as sns\n",
        "import matplotlib.pyplot as plt\n",
        "import pickle\n",
        "from sklearn.model_selection import train_test_split"
      ],
      "execution_count": null,
      "outputs": []
    },
    {
      "cell_type": "code",
      "metadata": {
        "colab": {
          "resources": {
            "http://localhost:8080/nbextensions/google.colab/files.js": {
              "data": "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",
              "ok": true,
              "headers": [
                [
                  "content-type",
                  "application/javascript"
                ]
              ],
              "status": 200,
              "status_text": ""
            }
          },
          "base_uri": "https://localhost:8080/",
          "height": 73
        },
        "id": "qjJu_gMKRwaY",
        "outputId": "f151dbc0-17b0-44c7-bc0e-eb7cd43366b9"
      },
      "source": [
        "#uploading the file in the device to google colab\n",
        "from google.colab import files\n",
        "uploaded = files.upload()"
      ],
      "execution_count": null,
      "outputs": [
        {
          "output_type": "display_data",
          "data": {
            "text/html": [
              "\n",
              "     <input type=\"file\" id=\"files-b5d6ef99-2248-4cd1-805c-31ef998b0a4f\" name=\"files[]\" multiple disabled\n",
              "        style=\"border:none\" />\n",
              "     <output id=\"result-b5d6ef99-2248-4cd1-805c-31ef998b0a4f\">\n",
              "      Upload widget is only available when the cell has been executed in the\n",
              "      current browser session. Please rerun this cell to enable.\n",
              "      </output>\n",
              "      <script src=\"/nbextensions/google.colab/files.js\"></script> "
            ],
            "text/plain": [
              "<IPython.core.display.HTML object>"
            ]
          },
          "metadata": {
            "tags": []
          }
        },
        {
          "output_type": "stream",
          "text": [
            "Saving data.csv to data.csv\n"
          ],
          "name": "stdout"
        }
      ]
    },
    {
      "cell_type": "code",
      "metadata": {
        "id": "v6rcTDKLUpxC",
        "colab": {
          "base_uri": "https://localhost:8080/",
          "height": 302
        },
        "outputId": "a6b0f246-dfd6-49bd-d758-fa651628f0fd"
      },
      "source": [
        "#reading the file using pandas\n",
        "import pandas as pd\n",
        "ipl=pd.read_csv(\"data.csv\")\n",
        "ipl.head()"
      ],
      "execution_count": null,
      "outputs": [
        {
          "output_type": "execute_result",
          "data": {
            "text/html": [
              "<div>\n",
              "<style scoped>\n",
              "    .dataframe tbody tr th:only-of-type {\n",
              "        vertical-align: middle;\n",
              "    }\n",
              "\n",
              "    .dataframe tbody tr th {\n",
              "        vertical-align: top;\n",
              "    }\n",
              "\n",
              "    .dataframe thead th {\n",
              "        text-align: right;\n",
              "    }\n",
              "</style>\n",
              "<table border=\"1\" class=\"dataframe\">\n",
              "  <thead>\n",
              "    <tr style=\"text-align: right;\">\n",
              "      <th></th>\n",
              "      <th>mid</th>\n",
              "      <th>date</th>\n",
              "      <th>venue</th>\n",
              "      <th>batting_team</th>\n",
              "      <th>bowling_team</th>\n",
              "      <th>batsman</th>\n",
              "      <th>bowler</th>\n",
              "      <th>runs</th>\n",
              "      <th>wickets</th>\n",
              "      <th>overs</th>\n",
              "      <th>runs_last_5</th>\n",
              "      <th>wickets_last_5</th>\n",
              "      <th>striker</th>\n",
              "      <th>non-striker</th>\n",
              "      <th>total</th>\n",
              "    </tr>\n",
              "  </thead>\n",
              "  <tbody>\n",
              "    <tr>\n",
              "      <th>0</th>\n",
              "      <td>1</td>\n",
              "      <td>18-04-2008</td>\n",
              "      <td>M Chinnaswamy Stadium</td>\n",
              "      <td>Kolkata Knight Riders</td>\n",
              "      <td>Royal Challengers Bangalore</td>\n",
              "      <td>SC Ganguly</td>\n",
              "      <td>P Kumar</td>\n",
              "      <td>1</td>\n",
              "      <td>0</td>\n",
              "      <td>0.1</td>\n",
              "      <td>1</td>\n",
              "      <td>0</td>\n",
              "      <td>0</td>\n",
              "      <td>0</td>\n",
              "      <td>222</td>\n",
              "    </tr>\n",
              "    <tr>\n",
              "      <th>1</th>\n",
              "      <td>1</td>\n",
              "      <td>18-04-2008</td>\n",
              "      <td>M Chinnaswamy Stadium</td>\n",
              "      <td>Kolkata Knight Riders</td>\n",
              "      <td>Royal Challengers Bangalore</td>\n",
              "      <td>BB McCullum</td>\n",
              "      <td>P Kumar</td>\n",
              "      <td>1</td>\n",
              "      <td>0</td>\n",
              "      <td>0.2</td>\n",
              "      <td>1</td>\n",
              "      <td>0</td>\n",
              "      <td>0</td>\n",
              "      <td>0</td>\n",
              "      <td>222</td>\n",
              "    </tr>\n",
              "    <tr>\n",
              "      <th>2</th>\n",
              "      <td>1</td>\n",
              "      <td>18-04-2008</td>\n",
              "      <td>M Chinnaswamy Stadium</td>\n",
              "      <td>Kolkata Knight Riders</td>\n",
              "      <td>Royal Challengers Bangalore</td>\n",
              "      <td>BB McCullum</td>\n",
              "      <td>P Kumar</td>\n",
              "      <td>2</td>\n",
              "      <td>0</td>\n",
              "      <td>0.2</td>\n",
              "      <td>2</td>\n",
              "      <td>0</td>\n",
              "      <td>0</td>\n",
              "      <td>0</td>\n",
              "      <td>222</td>\n",
              "    </tr>\n",
              "    <tr>\n",
              "      <th>3</th>\n",
              "      <td>1</td>\n",
              "      <td>18-04-2008</td>\n",
              "      <td>M Chinnaswamy Stadium</td>\n",
              "      <td>Kolkata Knight Riders</td>\n",
              "      <td>Royal Challengers Bangalore</td>\n",
              "      <td>BB McCullum</td>\n",
              "      <td>P Kumar</td>\n",
              "      <td>2</td>\n",
              "      <td>0</td>\n",
              "      <td>0.3</td>\n",
              "      <td>2</td>\n",
              "      <td>0</td>\n",
              "      <td>0</td>\n",
              "      <td>0</td>\n",
              "      <td>222</td>\n",
              "    </tr>\n",
              "    <tr>\n",
              "      <th>4</th>\n",
              "      <td>1</td>\n",
              "      <td>18-04-2008</td>\n",
              "      <td>M Chinnaswamy Stadium</td>\n",
              "      <td>Kolkata Knight Riders</td>\n",
              "      <td>Royal Challengers Bangalore</td>\n",
              "      <td>BB McCullum</td>\n",
              "      <td>P Kumar</td>\n",
              "      <td>2</td>\n",
              "      <td>0</td>\n",
              "      <td>0.4</td>\n",
              "      <td>2</td>\n",
              "      <td>0</td>\n",
              "      <td>0</td>\n",
              "      <td>0</td>\n",
              "      <td>222</td>\n",
              "    </tr>\n",
              "  </tbody>\n",
              "</table>\n",
              "</div>"
            ],
            "text/plain": [
              "   mid        date                  venue  ... striker non-striker total\n",
              "0    1  18-04-2008  M Chinnaswamy Stadium  ...       0           0   222\n",
              "1    1  18-04-2008  M Chinnaswamy Stadium  ...       0           0   222\n",
              "2    1  18-04-2008  M Chinnaswamy Stadium  ...       0           0   222\n",
              "3    1  18-04-2008  M Chinnaswamy Stadium  ...       0           0   222\n",
              "4    1  18-04-2008  M Chinnaswamy Stadium  ...       0           0   222\n",
              "\n",
              "[5 rows x 15 columns]"
            ]
          },
          "metadata": {
            "tags": []
          },
          "execution_count": 3
        }
      ]
    },
    {
      "cell_type": "code",
      "metadata": {
        "colab": {
          "base_uri": "https://localhost:8080/"
        },
        "id": "-Pb9PSfMVV0b",
        "outputId": "0571b158-4f4c-4fd0-90a2-11abe3878953"
      },
      "source": [
        "#removing unnecesary features\n",
        "ipl.drop(['mid','batsman','bowler','striker','non-striker','date'],axis=1)\n",
        "ipl.shape"
      ],
      "execution_count": null,
      "outputs": [
        {
          "output_type": "execute_result",
          "data": {
            "text/plain": [
              "(76014, 15)"
            ]
          },
          "metadata": {
            "tags": []
          },
          "execution_count": 4
        }
      ]
    },
    {
      "cell_type": "code",
      "metadata": {
        "id": "f7xw-mnWV-Ns",
        "colab": {
          "base_uri": "https://localhost:8080/"
        },
        "outputId": "f63aa4cd-0689-44ab-d09c-1f78bc4b741f"
      },
      "source": [
        "#veiwing unique values in venue and battting_team\n",
        "print(ipl['venue'].unique())\n",
        "ipl['batting_team'].unique()\n",
        "ipl['count'] = 1\n",
        "ipl.groupby(['venue']).count()['count']"
      ],
      "execution_count": null,
      "outputs": [
        {
          "output_type": "stream",
          "text": [
            "['M Chinnaswamy Stadium' 'Punjab Cricket Association Stadium, Mohali'\n",
            " 'Feroz Shah Kotla' 'Wankhede Stadium' 'Eden Gardens'\n",
            " 'Sawai Mansingh Stadium' 'Rajiv Gandhi International Stadium, Uppal'\n",
            " 'MA Chidambaram Stadium, Chepauk' 'Dr DY Patil Sports Academy' 'Newlands'\n",
            " \"St George's Park\" 'Kingsmead' 'SuperSport Park' 'Buffalo Park'\n",
            " 'New Wanderers Stadium' 'De Beers Diamond Oval' 'OUTsurance Oval'\n",
            " 'Brabourne Stadium' 'Sardar Patel Stadium, Motera' 'Barabati Stadium'\n",
            " 'Vidarbha Cricket Association Stadium, Jamtha'\n",
            " 'Himachal Pradesh Cricket Association Stadium' 'Nehru Stadium'\n",
            " 'Holkar Cricket Stadium'\n",
            " 'Dr. Y.S. Rajasekhara Reddy ACA-VDCA Cricket Stadium'\n",
            " 'Subrata Roy Sahara Stadium'\n",
            " 'Shaheed Veer Narayan Singh International Stadium'\n",
            " 'JSCA International Stadium Complex' 'Sheikh Zayed Stadium'\n",
            " 'Sharjah Cricket Stadium' 'Dubai International Cricket Stadium'\n",
            " 'Maharashtra Cricket Association Stadium'\n",
            " 'Punjab Cricket Association IS Bindra Stadium, Mohali'\n",
            " 'Saurashtra Cricket Association Stadium' 'Green Park']\n"
          ],
          "name": "stdout"
        },
        {
          "output_type": "execute_result",
          "data": {
            "text/plain": [
              "venue\n",
              "Barabati Stadium                                         856\n",
              "Brabourne Stadium                                       1380\n",
              "Buffalo Park                                             380\n",
              "De Beers Diamond Oval                                    368\n",
              "Dr DY Patil Sports Academy                              2088\n",
              "Dr. Y.S. Rajasekhara Reddy ACA-VDCA Cricket Stadium     1113\n",
              "Dubai International Cricket Stadium                      868\n",
              "Eden Gardens                                            7049\n",
              "Feroz Shah Kotla                                        7068\n",
              "Green Park                                               492\n",
              "Himachal Pradesh Cricket Association Stadium            1115\n",
              "Holkar Cricket Stadium                                   617\n",
              "JSCA International Stadium Complex                       837\n",
              "Kingsmead                                               1731\n",
              "M Chinnaswamy Stadium                                   7443\n",
              "MA Chidambaram Stadium, Chepauk                         5972\n",
              "Maharashtra Cricket Association Stadium                 1843\n",
              "Nehru Stadium                                            499\n",
              "New Wanderers Stadium                                    995\n",
              "Newlands                                                 737\n",
              "OUTsurance Oval                                          251\n",
              "Punjab Cricket Association IS Bindra Stadium, Mohali    1342\n",
              "Punjab Cricket Association Stadium, Mohali              4247\n",
              "Rajiv Gandhi International Stadium, Uppal               5827\n",
              "Sardar Patel Stadium, Motera                            1484\n",
              "Saurashtra Cricket Association Stadium                  1229\n",
              "Sawai Mansingh Stadium                                  4110\n",
              "Shaheed Veer Narayan Singh International Stadium         742\n",
              "Sharjah Cricket Stadium                                  744\n",
              "Sheikh Zayed Stadium                                     836\n",
              "St George's Park                                         870\n",
              "Subrata Roy Sahara Stadium                              2086\n",
              "SuperSport Park                                         1377\n",
              "Vidarbha Cricket Association Stadium, Jamtha             370\n",
              "Wankhede Stadium                                        7048\n",
              "Name: count, dtype: int64"
            ]
          },
          "metadata": {
            "tags": []
          },
          "execution_count": 5
        }
      ]
    },
    {
      "cell_type": "code",
      "metadata": {
        "id": "j5bID9KKWuEa",
        "colab": {
          "base_uri": "https://localhost:8080/",
          "height": 302
        },
        "outputId": "bf9ee019-4af1-4369-e080-f3823d465d99"
      },
      "source": [
        "#retainig the current teams alone(2021)\n",
        "current_teams = ['Kolkata Knight Riders', 'Chennai Super Kings', 'Rajasthan Royals',\n",
        "       'Mumbai Indians', 'Kings XI Punjab',\n",
        "       'Royal Challengers Bangalore', 'Delhi Daredevils',\n",
        "       'Sunrisers Hyderabad']\n",
        "current_venues = ['M Chinnaswamy Stadium','Eden Gardens', 'Feroz Shah Kotla', 'MA Chidambaram Stadium, Chepauk',\n",
        "       'Punjab Cricket Association Stadium, Mohali', \n",
        "       'Wankhede Stadium', 'Sawai Mansingh Stadium',\n",
        "       'Rajiv Gandhi International Stadium, Uppal']\n",
        "ipl = ipl[(ipl['batting_team'].isin(current_teams)) &(ipl['bowling_team'].isin(current_teams))]\n",
        "ipl = ipl[(ipl['venue'].isin(current_venues))]\n",
        "ipl = ipl[ipl['overs']>=5.0]\n",
        "ipl.head()"
      ],
      "execution_count": null,
      "outputs": [
        {
          "output_type": "execute_result",
          "data": {
            "text/html": [
              "<div>\n",
              "<style scoped>\n",
              "    .dataframe tbody tr th:only-of-type {\n",
              "        vertical-align: middle;\n",
              "    }\n",
              "\n",
              "    .dataframe tbody tr th {\n",
              "        vertical-align: top;\n",
              "    }\n",
              "\n",
              "    .dataframe thead th {\n",
              "        text-align: right;\n",
              "    }\n",
              "</style>\n",
              "<table border=\"1\" class=\"dataframe\">\n",
              "  <thead>\n",
              "    <tr style=\"text-align: right;\">\n",
              "      <th></th>\n",
              "      <th>mid</th>\n",
              "      <th>date</th>\n",
              "      <th>venue</th>\n",
              "      <th>batting_team</th>\n",
              "      <th>bowling_team</th>\n",
              "      <th>batsman</th>\n",
              "      <th>bowler</th>\n",
              "      <th>runs</th>\n",
              "      <th>wickets</th>\n",
              "      <th>overs</th>\n",
              "      <th>runs_last_5</th>\n",
              "      <th>wickets_last_5</th>\n",
              "      <th>striker</th>\n",
              "      <th>non-striker</th>\n",
              "      <th>total</th>\n",
              "      <th>count</th>\n",
              "    </tr>\n",
              "  </thead>\n",
              "  <tbody>\n",
              "    <tr>\n",
              "      <th>32</th>\n",
              "      <td>1</td>\n",
              "      <td>18-04-2008</td>\n",
              "      <td>M Chinnaswamy Stadium</td>\n",
              "      <td>Kolkata Knight Riders</td>\n",
              "      <td>Royal Challengers Bangalore</td>\n",
              "      <td>BB McCullum</td>\n",
              "      <td>Z Khan</td>\n",
              "      <td>61</td>\n",
              "      <td>0</td>\n",
              "      <td>5.1</td>\n",
              "      <td>59</td>\n",
              "      <td>0</td>\n",
              "      <td>41</td>\n",
              "      <td>10</td>\n",
              "      <td>222</td>\n",
              "      <td>1</td>\n",
              "    </tr>\n",
              "    <tr>\n",
              "      <th>33</th>\n",
              "      <td>1</td>\n",
              "      <td>18-04-2008</td>\n",
              "      <td>M Chinnaswamy Stadium</td>\n",
              "      <td>Kolkata Knight Riders</td>\n",
              "      <td>Royal Challengers Bangalore</td>\n",
              "      <td>SC Ganguly</td>\n",
              "      <td>Z Khan</td>\n",
              "      <td>61</td>\n",
              "      <td>1</td>\n",
              "      <td>5.2</td>\n",
              "      <td>59</td>\n",
              "      <td>1</td>\n",
              "      <td>41</td>\n",
              "      <td>10</td>\n",
              "      <td>222</td>\n",
              "      <td>1</td>\n",
              "    </tr>\n",
              "    <tr>\n",
              "      <th>34</th>\n",
              "      <td>1</td>\n",
              "      <td>18-04-2008</td>\n",
              "      <td>M Chinnaswamy Stadium</td>\n",
              "      <td>Kolkata Knight Riders</td>\n",
              "      <td>Royal Challengers Bangalore</td>\n",
              "      <td>RT Ponting</td>\n",
              "      <td>Z Khan</td>\n",
              "      <td>61</td>\n",
              "      <td>1</td>\n",
              "      <td>5.3</td>\n",
              "      <td>59</td>\n",
              "      <td>1</td>\n",
              "      <td>41</td>\n",
              "      <td>0</td>\n",
              "      <td>222</td>\n",
              "      <td>1</td>\n",
              "    </tr>\n",
              "    <tr>\n",
              "      <th>35</th>\n",
              "      <td>1</td>\n",
              "      <td>18-04-2008</td>\n",
              "      <td>M Chinnaswamy Stadium</td>\n",
              "      <td>Kolkata Knight Riders</td>\n",
              "      <td>Royal Challengers Bangalore</td>\n",
              "      <td>RT Ponting</td>\n",
              "      <td>Z Khan</td>\n",
              "      <td>61</td>\n",
              "      <td>1</td>\n",
              "      <td>5.4</td>\n",
              "      <td>59</td>\n",
              "      <td>1</td>\n",
              "      <td>41</td>\n",
              "      <td>0</td>\n",
              "      <td>222</td>\n",
              "      <td>1</td>\n",
              "    </tr>\n",
              "    <tr>\n",
              "      <th>36</th>\n",
              "      <td>1</td>\n",
              "      <td>18-04-2008</td>\n",
              "      <td>M Chinnaswamy Stadium</td>\n",
              "      <td>Kolkata Knight Riders</td>\n",
              "      <td>Royal Challengers Bangalore</td>\n",
              "      <td>RT Ponting</td>\n",
              "      <td>Z Khan</td>\n",
              "      <td>61</td>\n",
              "      <td>1</td>\n",
              "      <td>5.5</td>\n",
              "      <td>58</td>\n",
              "      <td>1</td>\n",
              "      <td>41</td>\n",
              "      <td>0</td>\n",
              "      <td>222</td>\n",
              "      <td>1</td>\n",
              "    </tr>\n",
              "  </tbody>\n",
              "</table>\n",
              "</div>"
            ],
            "text/plain": [
              "    mid        date                  venue  ... non-striker total count\n",
              "32    1  18-04-2008  M Chinnaswamy Stadium  ...          10   222     1\n",
              "33    1  18-04-2008  M Chinnaswamy Stadium  ...          10   222     1\n",
              "34    1  18-04-2008  M Chinnaswamy Stadium  ...           0   222     1\n",
              "35    1  18-04-2008  M Chinnaswamy Stadium  ...           0   222     1\n",
              "36    1  18-04-2008  M Chinnaswamy Stadium  ...           0   222     1\n",
              "\n",
              "[5 rows x 16 columns]"
            ]
          },
          "metadata": {
            "tags": []
          },
          "execution_count": 6
        }
      ]
    },
    {
      "cell_type": "code",
      "metadata": {
        "id": "F1JbnxBfYEJP",
        "colab": {
          "base_uri": "https://localhost:8080/",
          "height": 455
        },
        "outputId": "957fd3e9-0d87-4054-aa68-9bcaddfe424a"
      },
      "source": [
        "#creating dummies for categorical data\n",
        "final_ipl = pd.get_dummies(data=ipl, columns=['batting_team', 'bowling_team', 'venue'])\n",
        "final_ipl.head()"
      ],
      "execution_count": null,
      "outputs": [
        {
          "output_type": "execute_result",
          "data": {
            "text/html": [
              "<div>\n",
              "<style scoped>\n",
              "    .dataframe tbody tr th:only-of-type {\n",
              "        vertical-align: middle;\n",
              "    }\n",
              "\n",
              "    .dataframe tbody tr th {\n",
              "        vertical-align: top;\n",
              "    }\n",
              "\n",
              "    .dataframe thead th {\n",
              "        text-align: right;\n",
              "    }\n",
              "</style>\n",
              "<table border=\"1\" class=\"dataframe\">\n",
              "  <thead>\n",
              "    <tr style=\"text-align: right;\">\n",
              "      <th></th>\n",
              "      <th>mid</th>\n",
              "      <th>date</th>\n",
              "      <th>batsman</th>\n",
              "      <th>bowler</th>\n",
              "      <th>runs</th>\n",
              "      <th>wickets</th>\n",
              "      <th>overs</th>\n",
              "      <th>runs_last_5</th>\n",
              "      <th>wickets_last_5</th>\n",
              "      <th>striker</th>\n",
              "      <th>non-striker</th>\n",
              "      <th>total</th>\n",
              "      <th>count</th>\n",
              "      <th>batting_team_Chennai Super Kings</th>\n",
              "      <th>batting_team_Delhi Daredevils</th>\n",
              "      <th>batting_team_Kings XI Punjab</th>\n",
              "      <th>batting_team_Kolkata Knight Riders</th>\n",
              "      <th>batting_team_Mumbai Indians</th>\n",
              "      <th>batting_team_Rajasthan Royals</th>\n",
              "      <th>batting_team_Royal Challengers Bangalore</th>\n",
              "      <th>batting_team_Sunrisers Hyderabad</th>\n",
              "      <th>bowling_team_Chennai Super Kings</th>\n",
              "      <th>bowling_team_Delhi Daredevils</th>\n",
              "      <th>bowling_team_Kings XI Punjab</th>\n",
              "      <th>bowling_team_Kolkata Knight Riders</th>\n",
              "      <th>bowling_team_Mumbai Indians</th>\n",
              "      <th>bowling_team_Rajasthan Royals</th>\n",
              "      <th>bowling_team_Royal Challengers Bangalore</th>\n",
              "      <th>bowling_team_Sunrisers Hyderabad</th>\n",
              "      <th>venue_Eden Gardens</th>\n",
              "      <th>venue_Feroz Shah Kotla</th>\n",
              "      <th>venue_M Chinnaswamy Stadium</th>\n",
              "      <th>venue_MA Chidambaram Stadium, Chepauk</th>\n",
              "      <th>venue_Punjab Cricket Association Stadium, Mohali</th>\n",
              "      <th>venue_Rajiv Gandhi International Stadium, Uppal</th>\n",
              "      <th>venue_Sawai Mansingh Stadium</th>\n",
              "      <th>venue_Wankhede Stadium</th>\n",
              "    </tr>\n",
              "  </thead>\n",
              "  <tbody>\n",
              "    <tr>\n",
              "      <th>32</th>\n",
              "      <td>1</td>\n",
              "      <td>18-04-2008</td>\n",
              "      <td>BB McCullum</td>\n",
              "      <td>Z Khan</td>\n",
              "      <td>61</td>\n",
              "      <td>0</td>\n",
              "      <td>5.1</td>\n",
              "      <td>59</td>\n",
              "      <td>0</td>\n",
              "      <td>41</td>\n",
              "      <td>10</td>\n",
              "      <td>222</td>\n",
              "      <td>1</td>\n",
              "      <td>0</td>\n",
              "      <td>0</td>\n",
              "      <td>0</td>\n",
              "      <td>1</td>\n",
              "      <td>0</td>\n",
              "      <td>0</td>\n",
              "      <td>0</td>\n",
              "      <td>0</td>\n",
              "      <td>0</td>\n",
              "      <td>0</td>\n",
              "      <td>0</td>\n",
              "      <td>0</td>\n",
              "      <td>0</td>\n",
              "      <td>0</td>\n",
              "      <td>1</td>\n",
              "      <td>0</td>\n",
              "      <td>0</td>\n",
              "      <td>0</td>\n",
              "      <td>1</td>\n",
              "      <td>0</td>\n",
              "      <td>0</td>\n",
              "      <td>0</td>\n",
              "      <td>0</td>\n",
              "      <td>0</td>\n",
              "    </tr>\n",
              "    <tr>\n",
              "      <th>33</th>\n",
              "      <td>1</td>\n",
              "      <td>18-04-2008</td>\n",
              "      <td>SC Ganguly</td>\n",
              "      <td>Z Khan</td>\n",
              "      <td>61</td>\n",
              "      <td>1</td>\n",
              "      <td>5.2</td>\n",
              "      <td>59</td>\n",
              "      <td>1</td>\n",
              "      <td>41</td>\n",
              "      <td>10</td>\n",
              "      <td>222</td>\n",
              "      <td>1</td>\n",
              "      <td>0</td>\n",
              "      <td>0</td>\n",
              "      <td>0</td>\n",
              "      <td>1</td>\n",
              "      <td>0</td>\n",
              "      <td>0</td>\n",
              "      <td>0</td>\n",
              "      <td>0</td>\n",
              "      <td>0</td>\n",
              "      <td>0</td>\n",
              "      <td>0</td>\n",
              "      <td>0</td>\n",
              "      <td>0</td>\n",
              "      <td>0</td>\n",
              "      <td>1</td>\n",
              "      <td>0</td>\n",
              "      <td>0</td>\n",
              "      <td>0</td>\n",
              "      <td>1</td>\n",
              "      <td>0</td>\n",
              "      <td>0</td>\n",
              "      <td>0</td>\n",
              "      <td>0</td>\n",
              "      <td>0</td>\n",
              "    </tr>\n",
              "    <tr>\n",
              "      <th>34</th>\n",
              "      <td>1</td>\n",
              "      <td>18-04-2008</td>\n",
              "      <td>RT Ponting</td>\n",
              "      <td>Z Khan</td>\n",
              "      <td>61</td>\n",
              "      <td>1</td>\n",
              "      <td>5.3</td>\n",
              "      <td>59</td>\n",
              "      <td>1</td>\n",
              "      <td>41</td>\n",
              "      <td>0</td>\n",
              "      <td>222</td>\n",
              "      <td>1</td>\n",
              "      <td>0</td>\n",
              "      <td>0</td>\n",
              "      <td>0</td>\n",
              "      <td>1</td>\n",
              "      <td>0</td>\n",
              "      <td>0</td>\n",
              "      <td>0</td>\n",
              "      <td>0</td>\n",
              "      <td>0</td>\n",
              "      <td>0</td>\n",
              "      <td>0</td>\n",
              "      <td>0</td>\n",
              "      <td>0</td>\n",
              "      <td>0</td>\n",
              "      <td>1</td>\n",
              "      <td>0</td>\n",
              "      <td>0</td>\n",
              "      <td>0</td>\n",
              "      <td>1</td>\n",
              "      <td>0</td>\n",
              "      <td>0</td>\n",
              "      <td>0</td>\n",
              "      <td>0</td>\n",
              "      <td>0</td>\n",
              "    </tr>\n",
              "    <tr>\n",
              "      <th>35</th>\n",
              "      <td>1</td>\n",
              "      <td>18-04-2008</td>\n",
              "      <td>RT Ponting</td>\n",
              "      <td>Z Khan</td>\n",
              "      <td>61</td>\n",
              "      <td>1</td>\n",
              "      <td>5.4</td>\n",
              "      <td>59</td>\n",
              "      <td>1</td>\n",
              "      <td>41</td>\n",
              "      <td>0</td>\n",
              "      <td>222</td>\n",
              "      <td>1</td>\n",
              "      <td>0</td>\n",
              "      <td>0</td>\n",
              "      <td>0</td>\n",
              "      <td>1</td>\n",
              "      <td>0</td>\n",
              "      <td>0</td>\n",
              "      <td>0</td>\n",
              "      <td>0</td>\n",
              "      <td>0</td>\n",
              "      <td>0</td>\n",
              "      <td>0</td>\n",
              "      <td>0</td>\n",
              "      <td>0</td>\n",
              "      <td>0</td>\n",
              "      <td>1</td>\n",
              "      <td>0</td>\n",
              "      <td>0</td>\n",
              "      <td>0</td>\n",
              "      <td>1</td>\n",
              "      <td>0</td>\n",
              "      <td>0</td>\n",
              "      <td>0</td>\n",
              "      <td>0</td>\n",
              "      <td>0</td>\n",
              "    </tr>\n",
              "    <tr>\n",
              "      <th>36</th>\n",
              "      <td>1</td>\n",
              "      <td>18-04-2008</td>\n",
              "      <td>RT Ponting</td>\n",
              "      <td>Z Khan</td>\n",
              "      <td>61</td>\n",
              "      <td>1</td>\n",
              "      <td>5.5</td>\n",
              "      <td>58</td>\n",
              "      <td>1</td>\n",
              "      <td>41</td>\n",
              "      <td>0</td>\n",
              "      <td>222</td>\n",
              "      <td>1</td>\n",
              "      <td>0</td>\n",
              "      <td>0</td>\n",
              "      <td>0</td>\n",
              "      <td>1</td>\n",
              "      <td>0</td>\n",
              "      <td>0</td>\n",
              "      <td>0</td>\n",
              "      <td>0</td>\n",
              "      <td>0</td>\n",
              "      <td>0</td>\n",
              "      <td>0</td>\n",
              "      <td>0</td>\n",
              "      <td>0</td>\n",
              "      <td>0</td>\n",
              "      <td>1</td>\n",
              "      <td>0</td>\n",
              "      <td>0</td>\n",
              "      <td>0</td>\n",
              "      <td>1</td>\n",
              "      <td>0</td>\n",
              "      <td>0</td>\n",
              "      <td>0</td>\n",
              "      <td>0</td>\n",
              "      <td>0</td>\n",
              "    </tr>\n",
              "  </tbody>\n",
              "</table>\n",
              "</div>"
            ],
            "text/plain": [
              "    mid        date  ... venue_Sawai Mansingh Stadium venue_Wankhede Stadium\n",
              "32    1  18-04-2008  ...                            0                      0\n",
              "33    1  18-04-2008  ...                            0                      0\n",
              "34    1  18-04-2008  ...                            0                      0\n",
              "35    1  18-04-2008  ...                            0                      0\n",
              "36    1  18-04-2008  ...                            0                      0\n",
              "\n",
              "[5 rows x 37 columns]"
            ]
          },
          "metadata": {
            "tags": []
          },
          "execution_count": 7
        }
      ]
    },
    {
      "cell_type": "code",
      "metadata": {
        "colab": {
          "base_uri": "https://localhost:8080/",
          "height": 288
        },
        "id": "2KioUVVaao7E",
        "outputId": "64dae1ba-9643-4ddb-c3e4-6aa3cbc4d22c"
      },
      "source": [
        "#rearranging the feature columns \n",
        "final_ipl = final_ipl[['batting_team_Chennai Super Kings', 'batting_team_Delhi Daredevils',\n",
        "       'batting_team_Kings XI Punjab', 'batting_team_Kolkata Knight Riders',\n",
        "       'batting_team_Mumbai Indians', 'batting_team_Rajasthan Royals',\n",
        "       'batting_team_Royal Challengers Bangalore', 'batting_team_Sunrisers Hyderabad',\n",
        "       'bowling_team_Chennai Super Kings', 'bowling_team_Delhi Daredevils',\n",
        "       'bowling_team_Kings XI Punjab', 'bowling_team_Kolkata Knight Riders',\n",
        "       'bowling_team_Mumbai Indians', 'bowling_team_Rajasthan Royals',\n",
        "       'bowling_team_Royal Challengers Bangalore',\n",
        "       'bowling_team_Sunrisers Hyderabad', 'venue_Eden Gardens',\n",
        "       'venue_Feroz Shah Kotla','venue_M Chinnaswamy Stadium',\n",
        "       'venue_MA Chidambaram Stadium, Chepauk','venue_Sawai Mansingh Stadium',\n",
        "       'venue_Punjab Cricket Association Stadium, Mohali',\n",
        "       'venue_Rajiv Gandhi International Stadium, Uppal',\n",
        "       'venue_Wankhede Stadium', 'overs','runs', 'wickets', 'runs_last_5', 'wickets_last_5',\n",
        "       ]]\n",
        "target=ipl['total']\n",
        "final_ipl.head()\n"
      ],
      "execution_count": null,
      "outputs": [
        {
          "output_type": "execute_result",
          "data": {
            "text/html": [
              "<div>\n",
              "<style scoped>\n",
              "    .dataframe tbody tr th:only-of-type {\n",
              "        vertical-align: middle;\n",
              "    }\n",
              "\n",
              "    .dataframe tbody tr th {\n",
              "        vertical-align: top;\n",
              "    }\n",
              "\n",
              "    .dataframe thead th {\n",
              "        text-align: right;\n",
              "    }\n",
              "</style>\n",
              "<table border=\"1\" class=\"dataframe\">\n",
              "  <thead>\n",
              "    <tr style=\"text-align: right;\">\n",
              "      <th></th>\n",
              "      <th>batting_team_Chennai Super Kings</th>\n",
              "      <th>batting_team_Delhi Daredevils</th>\n",
              "      <th>batting_team_Kings XI Punjab</th>\n",
              "      <th>batting_team_Kolkata Knight Riders</th>\n",
              "      <th>batting_team_Mumbai Indians</th>\n",
              "      <th>batting_team_Rajasthan Royals</th>\n",
              "      <th>batting_team_Royal Challengers Bangalore</th>\n",
              "      <th>batting_team_Sunrisers Hyderabad</th>\n",
              "      <th>bowling_team_Chennai Super Kings</th>\n",
              "      <th>bowling_team_Delhi Daredevils</th>\n",
              "      <th>bowling_team_Kings XI Punjab</th>\n",
              "      <th>bowling_team_Kolkata Knight Riders</th>\n",
              "      <th>bowling_team_Mumbai Indians</th>\n",
              "      <th>bowling_team_Rajasthan Royals</th>\n",
              "      <th>bowling_team_Royal Challengers Bangalore</th>\n",
              "      <th>bowling_team_Sunrisers Hyderabad</th>\n",
              "      <th>venue_Eden Gardens</th>\n",
              "      <th>venue_Feroz Shah Kotla</th>\n",
              "      <th>venue_M Chinnaswamy Stadium</th>\n",
              "      <th>venue_MA Chidambaram Stadium, Chepauk</th>\n",
              "      <th>venue_Sawai Mansingh Stadium</th>\n",
              "      <th>venue_Punjab Cricket Association Stadium, Mohali</th>\n",
              "      <th>venue_Rajiv Gandhi International Stadium, Uppal</th>\n",
              "      <th>venue_Wankhede Stadium</th>\n",
              "      <th>overs</th>\n",
              "      <th>runs</th>\n",
              "      <th>wickets</th>\n",
              "      <th>runs_last_5</th>\n",
              "      <th>wickets_last_5</th>\n",
              "    </tr>\n",
              "  </thead>\n",
              "  <tbody>\n",
              "    <tr>\n",
              "      <th>32</th>\n",
              "      <td>0</td>\n",
              "      <td>0</td>\n",
              "      <td>0</td>\n",
              "      <td>1</td>\n",
              "      <td>0</td>\n",
              "      <td>0</td>\n",
              "      <td>0</td>\n",
              "      <td>0</td>\n",
              "      <td>0</td>\n",
              "      <td>0</td>\n",
              "      <td>0</td>\n",
              "      <td>0</td>\n",
              "      <td>0</td>\n",
              "      <td>0</td>\n",
              "      <td>1</td>\n",
              "      <td>0</td>\n",
              "      <td>0</td>\n",
              "      <td>0</td>\n",
              "      <td>1</td>\n",
              "      <td>0</td>\n",
              "      <td>0</td>\n",
              "      <td>0</td>\n",
              "      <td>0</td>\n",
              "      <td>0</td>\n",
              "      <td>5.1</td>\n",
              "      <td>61</td>\n",
              "      <td>0</td>\n",
              "      <td>59</td>\n",
              "      <td>0</td>\n",
              "    </tr>\n",
              "    <tr>\n",
              "      <th>33</th>\n",
              "      <td>0</td>\n",
              "      <td>0</td>\n",
              "      <td>0</td>\n",
              "      <td>1</td>\n",
              "      <td>0</td>\n",
              "      <td>0</td>\n",
              "      <td>0</td>\n",
              "      <td>0</td>\n",
              "      <td>0</td>\n",
              "      <td>0</td>\n",
              "      <td>0</td>\n",
              "      <td>0</td>\n",
              "      <td>0</td>\n",
              "      <td>0</td>\n",
              "      <td>1</td>\n",
              "      <td>0</td>\n",
              "      <td>0</td>\n",
              "      <td>0</td>\n",
              "      <td>1</td>\n",
              "      <td>0</td>\n",
              "      <td>0</td>\n",
              "      <td>0</td>\n",
              "      <td>0</td>\n",
              "      <td>0</td>\n",
              "      <td>5.2</td>\n",
              "      <td>61</td>\n",
              "      <td>1</td>\n",
              "      <td>59</td>\n",
              "      <td>1</td>\n",
              "    </tr>\n",
              "    <tr>\n",
              "      <th>34</th>\n",
              "      <td>0</td>\n",
              "      <td>0</td>\n",
              "      <td>0</td>\n",
              "      <td>1</td>\n",
              "      <td>0</td>\n",
              "      <td>0</td>\n",
              "      <td>0</td>\n",
              "      <td>0</td>\n",
              "      <td>0</td>\n",
              "      <td>0</td>\n",
              "      <td>0</td>\n",
              "      <td>0</td>\n",
              "      <td>0</td>\n",
              "      <td>0</td>\n",
              "      <td>1</td>\n",
              "      <td>0</td>\n",
              "      <td>0</td>\n",
              "      <td>0</td>\n",
              "      <td>1</td>\n",
              "      <td>0</td>\n",
              "      <td>0</td>\n",
              "      <td>0</td>\n",
              "      <td>0</td>\n",
              "      <td>0</td>\n",
              "      <td>5.3</td>\n",
              "      <td>61</td>\n",
              "      <td>1</td>\n",
              "      <td>59</td>\n",
              "      <td>1</td>\n",
              "    </tr>\n",
              "    <tr>\n",
              "      <th>35</th>\n",
              "      <td>0</td>\n",
              "      <td>0</td>\n",
              "      <td>0</td>\n",
              "      <td>1</td>\n",
              "      <td>0</td>\n",
              "      <td>0</td>\n",
              "      <td>0</td>\n",
              "      <td>0</td>\n",
              "      <td>0</td>\n",
              "      <td>0</td>\n",
              "      <td>0</td>\n",
              "      <td>0</td>\n",
              "      <td>0</td>\n",
              "      <td>0</td>\n",
              "      <td>1</td>\n",
              "      <td>0</td>\n",
              "      <td>0</td>\n",
              "      <td>0</td>\n",
              "      <td>1</td>\n",
              "      <td>0</td>\n",
              "      <td>0</td>\n",
              "      <td>0</td>\n",
              "      <td>0</td>\n",
              "      <td>0</td>\n",
              "      <td>5.4</td>\n",
              "      <td>61</td>\n",
              "      <td>1</td>\n",
              "      <td>59</td>\n",
              "      <td>1</td>\n",
              "    </tr>\n",
              "    <tr>\n",
              "      <th>36</th>\n",
              "      <td>0</td>\n",
              "      <td>0</td>\n",
              "      <td>0</td>\n",
              "      <td>1</td>\n",
              "      <td>0</td>\n",
              "      <td>0</td>\n",
              "      <td>0</td>\n",
              "      <td>0</td>\n",
              "      <td>0</td>\n",
              "      <td>0</td>\n",
              "      <td>0</td>\n",
              "      <td>0</td>\n",
              "      <td>0</td>\n",
              "      <td>0</td>\n",
              "      <td>1</td>\n",
              "      <td>0</td>\n",
              "      <td>0</td>\n",
              "      <td>0</td>\n",
              "      <td>1</td>\n",
              "      <td>0</td>\n",
              "      <td>0</td>\n",
              "      <td>0</td>\n",
              "      <td>0</td>\n",
              "      <td>0</td>\n",
              "      <td>5.5</td>\n",
              "      <td>61</td>\n",
              "      <td>1</td>\n",
              "      <td>58</td>\n",
              "      <td>1</td>\n",
              "    </tr>\n",
              "  </tbody>\n",
              "</table>\n",
              "</div>"
            ],
            "text/plain": [
              "    batting_team_Chennai Super Kings  ...  wickets_last_5\n",
              "32                                 0  ...               0\n",
              "33                                 0  ...               1\n",
              "34                                 0  ...               1\n",
              "35                                 0  ...               1\n",
              "36                                 0  ...               1\n",
              "\n",
              "[5 rows x 29 columns]"
            ]
          },
          "metadata": {
            "tags": []
          },
          "execution_count": 8
        }
      ]
    },
    {
      "cell_type": "code",
      "metadata": {
        "id": "Sdd8TKRMbFtc"
      },
      "source": [
        "#spliting the data into training and testind(75%,25%)\n",
        "X_train, X_test, Y_train, Y_test = train_test_split(final_ipl, target, test_size=0.25)"
      ],
      "execution_count": null,
      "outputs": []
    },
    {
      "cell_type": "markdown",
      "metadata": {
        "id": "bQL-HFe886BO"
      },
      "source": [
        "**LINEAR** **REGRESSION**"
      ]
    },
    {
      "cell_type": "code",
      "metadata": {
        "id": "rcfw4TfOAaSC"
      },
      "source": [
        "#creating a dictionary to store all the models\n",
        "models=dict()"
      ],
      "execution_count": null,
      "outputs": []
    },
    {
      "cell_type": "code",
      "metadata": {
        "id": "4zScxXQWgqo8",
        "colab": {
          "base_uri": "https://localhost:8080/"
        },
        "outputId": "643363ed-77af-4cb3-e42a-00b2ef079f05"
      },
      "source": [
        "#implementing LinearRegression\n",
        "#importing the LinearRegression model\n",
        "from sklearn.linear_model import LinearRegression\n",
        "lin_reg=LinearRegression()\n",
        "\n",
        "#fitting LinearRegression to the training data\n",
        "lin_reg.fit(X_train, Y_train)\n",
        "\n",
        "#predicting the test data\n",
        "Y_pred_lin_reg=lin_reg.predict(X_test)\n",
        "\n",
        "#measuring the error\n",
        "from sklearn import metrics\n",
        "print('Mean absolute error:',metrics.mean_absolute_error(Y_test, Y_pred_lin_reg))\n",
        "print(Y_pred_lin_reg)\n",
        "print(Y_test)\n",
        "\n",
        "#model score\n",
        "test_score_lin_reg = str(lin_reg.score(X_test,Y_test) * 100)\n",
        "print(\"score on test data :\",test_score_lin_reg)\n",
        "models['lin_reg']=test_score_lin_reg"
      ],
      "execution_count": null,
      "outputs": [
        {
          "output_type": "stream",
          "text": [
            "Mean absolute error: 12.985493568232663\n",
            "[217.96875 159.28125 175.6875  ... 142.15625 190.40625 223.96875]\n",
            "59845    226\n",
            "69402    157\n",
            "22749    183\n",
            "62759    111\n",
            "61144    130\n",
            "        ... \n",
            "55669    209\n",
            "47706    132\n",
            "1696     158\n",
            "63220    191\n",
            "26579    205\n",
            "Name: total, Length: 7152, dtype: int64\n",
            "score on test data : 67.11837553332124\n"
          ],
          "name": "stdout"
        }
      ]
    },
    {
      "cell_type": "code",
      "metadata": {
        "id": "WtS5WrOn2EI6",
        "colab": {
          "base_uri": "https://localhost:8080/"
        },
        "outputId": "7a091671-cdb6-4835-a1d2-dc65f3426f95"
      },
      "source": [
        "#implemnting LassoRegression\n",
        "from sklearn.linear_model import Lasso\n",
        "print(Lasso())\n",
        "lasso_reg = Lasso(alpha=0.001)\n",
        "\n",
        "#fitting Lasso for training data \n",
        "lasso_reg.fit(X_train, Y_train) \n",
        "\n",
        "#predicting the test_data\n",
        "Y_pred_lasso= lasso_reg.predict(X_test)\n",
        "\n",
        "#measuring error\n",
        "print('Mean absolute error:',metrics.mean_absolute_error(Y_test, Y_pred_lasso))\n",
        "print(Y_pred_lasso)\n",
        "print(Y_test)\n",
        "\n",
        "#model score\n",
        "test_score_lasso_reg = str(lasso_reg.score(X_test,Y_test) * 100)\n",
        "print(\"score on test data :\",test_score_lasso_reg)\n",
        "models['lasso_reg']=test_score_lasso_reg"
      ],
      "execution_count": null,
      "outputs": [
        {
          "output_type": "stream",
          "text": [
            "Lasso(alpha=1.0, copy_X=True, fit_intercept=True, max_iter=1000,\n",
            "      normalize=False, positive=False, precompute=False, random_state=None,\n",
            "      selection='cyclic', tol=0.0001, warm_start=False)\n",
            "Mean absolute error: 12.989660685012213\n",
            "[218.14597037 159.05754966 176.04583946 ... 142.09631485 190.33871282\n",
            " 224.17101782]\n",
            "59845    226\n",
            "69402    157\n",
            "22749    183\n",
            "62759    111\n",
            "61144    130\n",
            "        ... \n",
            "55669    209\n",
            "47706    132\n",
            "1696     158\n",
            "63220    191\n",
            "26579    205\n",
            "Name: total, Length: 7152, dtype: int64\n",
            "score on test data : 67.12908114580367\n"
          ],
          "name": "stdout"
        }
      ]
    },
    {
      "cell_type": "code",
      "metadata": {
        "colab": {
          "base_uri": "https://localhost:8080/"
        },
        "id": "GKRzOLJ45Xz4",
        "outputId": "6a2b1718-ce2e-4e37-f6c7-faf8a7b8d1a7"
      },
      "source": [
        "#implementing decisionTreeRegression\n",
        "from sklearn.tree import DecisionTreeRegressor\n",
        "tree = DecisionTreeRegressor()\n",
        "\n",
        "# Train Model\n",
        "tree.fit(X_train,Y_train)\n",
        "\n",
        "#prediction\n",
        "Y_pred_tree=tree.predict(X_test)\n",
        "\n",
        "#error analysis\n",
        "print('Mean absolute error:',metrics.mean_absolute_error(Y_test, Y_pred_tree))\n",
        "\n",
        "#model score\n",
        "test_score_tree = str(tree.score(X_test,Y_test) * 100)\n",
        "print(\"score on test data :\",test_score_tree)\n",
        "models['tree']=test_score_tree"
      ],
      "execution_count": null,
      "outputs": [
        {
          "output_type": "stream",
          "text": [
            "Mean absolute error: 2.990072706935123\n",
            "score on test data : 89.35948209695096\n"
          ],
          "name": "stdout"
        }
      ]
    },
    {
      "cell_type": "code",
      "metadata": {
        "id": "HH1yP0DunpI_",
        "colab": {
          "base_uri": "https://localhost:8080/"
        },
        "outputId": "9721afd7-3ce1-40ab-d247-464909fd831d"
      },
      "source": [
        "#implementing SVM Regression\n",
        "from sklearn.svm import SVR\n",
        "svm = SVR()\n",
        "\n",
        "#train_data\n",
        "svm.fit(X_train,Y_train)\n",
        "\n",
        "#prediction\n",
        "Y_pred_svm=svm.predict(X_test)\n",
        "\n",
        "#error analysis\n",
        "print('Mean absolute error:',metrics.mean_absolute_error(Y_test, Y_pred_svm))\n",
        "print(Y_pred_svm)\n",
        "print(Y_test)\n",
        "\n",
        "#model score\n",
        "test_score_svm = str(svm.score(X_test,Y_test) * 100)\n",
        "print(\"score on test data :\",test_score_svm)\n",
        "models['svm']=test_score_svm"
      ],
      "execution_count": null,
      "outputs": [
        {
          "output_type": "stream",
          "text": [
            "Mean absolute error: 15.664129039253382\n",
            "[187.13483945 145.02479309 168.66152935 ... 149.73621147 189.62445883\n",
            " 200.89545406]\n",
            "59845    226\n",
            "69402    157\n",
            "22749    183\n",
            "62759    111\n",
            "61144    130\n",
            "        ... \n",
            "55669    209\n",
            "47706    132\n",
            "1696     158\n",
            "63220    191\n",
            "26579    205\n",
            "Name: total, Length: 7152, dtype: int64\n",
            "score on test data : 54.38253619156717\n"
          ],
          "name": "stdout"
        }
      ]
    },
    {
      "cell_type": "code",
      "metadata": {
        "id": "QjMpaRLppO1c",
        "colab": {
          "base_uri": "https://localhost:8080/"
        },
        "outputId": "e3c7df92-c24e-416f-9a95-88c9767f034c"
      },
      "source": [
        "#implementing RandomForestRegressor\n",
        "from sklearn.ensemble import RandomForestRegressor\n",
        "forest = RandomForestRegressor()\n",
        "\n",
        "# Train Model\n",
        "forest.fit(X_train,Y_train)\n",
        "\n",
        "#prediction\n",
        "Y_pred_random=forest.predict(X_test)\n",
        "\n",
        "#error analysis\n",
        "print('Mean absolute error:',metrics.mean_absolute_error(Y_test, Y_pred_random))\n",
        "print(Y_pred_random)\n",
        "print(Y_test)\n",
        "\n",
        "#model score\n",
        "test_score_forest = str(forest.score(X_test,Y_test) * 100)\n",
        "print(\"score on test data :\",test_score_forest)\n",
        "models['forest']=test_score_forest"
      ],
      "execution_count": null,
      "outputs": [
        {
          "output_type": "stream",
          "text": [
            "Mean absolute error: 3.4751052619313945\n",
            "[217.99 157.65 177.56 ... 156.17 191.19 211.1 ]\n",
            "59845    226\n",
            "69402    157\n",
            "22749    183\n",
            "62759    111\n",
            "61144    130\n",
            "        ... \n",
            "55669    209\n",
            "47706    132\n",
            "1696     158\n",
            "63220    191\n",
            "26579    205\n",
            "Name: total, Length: 7152, dtype: int64\n",
            "score on test data : 95.45244617311376\n"
          ],
          "name": "stdout"
        }
      ]
    },
    {
      "cell_type": "code",
      "metadata": {
        "id": "SIyAq1SNp4zS",
        "colab": {
          "base_uri": "https://localhost:8080/"
        },
        "outputId": "f5e97043-7028-4b6f-f5eb-74be50471895"
      },
      "source": [
        "#implementing neural_network\n",
        "from sklearn.neural_network import MLPRegressor\n",
        "neural_network = MLPRegressor(hidden_layer_sizes=(64,64,64),activation=\"relu\" ,random_state=1, max_iter=2000)\n",
        "\n",
        "#train model\n",
        "neural_network.fit(X_train,Y_train)\n",
        "\n",
        "#prediction\n",
        "Y_pred_neural_network=neural_network.predict(X_test)\n",
        "\n",
        "#error analysis\n",
        "print('Mean absolute error:',metrics.mean_absolute_error(Y_test, Y_pred_neural_network))\n",
        "print(Y_pred_neural_network)\n",
        "print(Y_test)\n",
        "\n",
        "#model score\n",
        "test_score_neural_network = str(neural_network.score(X_test,Y_test) * 100)\n",
        "print(\"score on test data :\",test_score_neural_network)\n",
        "models['neural_network']=test_score_neural_network"
      ],
      "execution_count": null,
      "outputs": [
        {
          "output_type": "stream",
          "text": [
            "Mean absolute error: 6.401642122931247\n",
            "[221.5249888  157.70999667 174.46326362 ... 130.62938431 180.82186475\n",
            " 215.31077671]\n",
            "59845    226\n",
            "69402    157\n",
            "22749    183\n",
            "62759    111\n",
            "61144    130\n",
            "        ... \n",
            "55669    209\n",
            "47706    132\n",
            "1696     158\n",
            "63220    191\n",
            "26579    205\n",
            "Name: total, Length: 7152, dtype: int64\n",
            "score on test data : 91.42928562391097\n"
          ],
          "name": "stdout"
        },
        {
          "output_type": "stream",
          "text": [
            "/usr/local/lib/python3.7/dist-packages/sklearn/neural_network/_multilayer_perceptron.py:573: UserWarning: Training interrupted by user.\n",
            "  warnings.warn(\"Training interrupted by user.\")\n"
          ],
          "name": "stderr"
        }
      ]
    },
    {
      "cell_type": "code",
      "metadata": {
        "colab": {
          "base_uri": "https://localhost:8080/",
          "height": 343
        },
        "id": "wl1kFmX-FmwA",
        "outputId": "f860e170-9bbe-461b-b91d-fd90663048bb"
      },
      "source": [
        "#selecting the best model\n",
        "\n",
        "from seaborn import barplot\n",
        "model_names = list(models.keys())\n",
        "accuracy = list(map(float, models.values()))\n",
        "barplot(model_names, accuracy)"
      ],
      "execution_count": null,
      "outputs": [
        {
          "output_type": "stream",
          "text": [
            "/usr/local/lib/python3.7/dist-packages/seaborn/_decorators.py:43: FutureWarning: Pass the following variables as keyword args: x, y. From version 0.12, the only valid positional argument will be `data`, and passing other arguments without an explicit keyword will result in an error or misinterpretation.\n",
            "  FutureWarning\n"
          ],
          "name": "stderr"
        },
        {
          "output_type": "execute_result",
          "data": {
            "text/plain": [
              "<matplotlib.axes._subplots.AxesSubplot at 0x7f3792381490>"
            ]
          },
          "metadata": {
            "tags": []
          },
          "execution_count": 17
        },
        {
          "output_type": "display_data",
          "data": {
            "image/png": "[encoded data removed]",
            "text/plain": [
              "<Figure size 432x288 with 1 Axes>"
            ]
          },
          "metadata": {
            "tags": [],
            "needs_background": "light"
          }
        }
      ]
    }
  ]
}